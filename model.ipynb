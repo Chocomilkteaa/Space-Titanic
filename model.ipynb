{
 "cells": [
  {
   "cell_type": "markdown",
   "metadata": {},
   "source": [
    "# Import packages and Settings"
   ]
  },
  {
   "cell_type": "code",
   "execution_count": 1,
   "metadata": {},
   "outputs": [
    {
     "name": "stdout",
     "output_type": "stream",
     "text": [
      "9\n"
     ]
    }
   ],
   "source": [
    "import os\n",
    "\n",
    "n_core = os.cpu_count()-3\n",
    "print(n_core)"
   ]
  },
  {
   "cell_type": "code",
   "execution_count": 2,
   "metadata": {},
   "outputs": [],
   "source": [
    "import numpy as np\n",
    "\n",
    "import pandas as pd\n",
    "\n",
    "import matplotlib.pyplot as plt\n",
    "\n",
    "from xgboost.sklearn import XGBClassifier\n",
    "\n",
    "from catboost import CatBoostClassifier\n",
    "\n",
    "%matplotlib inline"
   ]
  },
  {
   "cell_type": "code",
   "execution_count": 3,
   "metadata": {},
   "outputs": [
    {
     "name": "stderr",
     "output_type": "stream",
     "text": [
      "Intel(R) Extension for Scikit-learn* enabled (https://github.com/intel/scikit-learn-intelex)\n"
     ]
    }
   ],
   "source": [
    "from sklearn.base import clone\n",
    "from sklearn.preprocessing import OneHotEncoder\n",
    "from sklearn.linear_model import LogisticRegression\n",
    "from sklearn.svm import SVC\n",
    "from sklearn.tree import DecisionTreeClassifier\n",
    "from sklearn.ensemble import RandomForestClassifier, GradientBoostingClassifier, VotingClassifier\n",
    "from sklearn.feature_selection import RFECV\n",
    "from sklearn.model_selection import ShuffleSplit, cross_val_score, GridSearchCV\n",
    "from sklearn.metrics import accuracy_score\n",
    "\n",
    "from sklearnex import patch_sklearn\n",
    "\n",
    "patch_sklearn()"
   ]
  },
  {
   "cell_type": "code",
   "execution_count": 4,
   "metadata": {},
   "outputs": [],
   "source": [
    "train_data = pd.read_csv('./Data/train.csv')\n",
    "test_data = pd.read_csv('./Data/test.csv')\n",
    "\n",
    "feature = 'Transported'\n",
    "train_data[feature] = train_data[feature].astype(int)\n",
    "\n",
    "feature = 'CryoSleep'\n",
    "train_data[feature] = train_data[feature].replace({'False': 0, 'True': 1}).astype('Int64')\n",
    "test_data[feature] = test_data[feature].replace({'False': 0, 'True': 1}).astype('Int64')\n",
    "\n",
    "feature = 'VIP'\n",
    "train_data[feature] = train_data[feature].replace({'False': 0, 'True': 1}).astype('Int64')\n",
    "test_data[feature] = test_data[feature].replace({'False': 0, 'True': 1}).astype('Int64')\n",
    "\n",
    "label = 'Transported'\n",
    "\n",
    "id = test_data['PassengerId']"
   ]
  },
  {
   "cell_type": "code",
   "execution_count": 5,
   "metadata": {},
   "outputs": [],
   "source": [
    "models = [\n",
    "    LogisticRegression(random_state=0),\n",
    "    SVC(random_state=0),\n",
    "    DecisionTreeClassifier(random_state=0),\n",
    "    RandomForestClassifier(random_state=0),\n",
    "    GradientBoostingClassifier(random_state=0),\n",
    "    XGBClassifier(random_state=0),\n",
    "    CatBoostClassifier(random_state=0, verbose=0, allow_writing_files=False)\n",
    "]"
   ]
  },
  {
   "cell_type": "markdown",
   "metadata": {},
   "source": [
    "# Functions"
   ]
  },
  {
   "cell_type": "code",
   "execution_count": 6,
   "metadata": {},
   "outputs": [],
   "source": [
    "def preprocess(columns_to_drop, train_data, test_data, label):\n",
    "    X_train = train_data.drop([label] + columns_to_drop, axis=1)\n",
    "    Y_train = train_data[label]\n",
    "    X_test = test_data.drop(columns_to_drop, axis=1)\n",
    "\n",
    "    columns_num = X_train.select_dtypes(include='number').columns\n",
    "    columns_cat = X_train.select_dtypes(include='O').columns\n",
    "\n",
    "    X_train[columns_num] = X_train[columns_num].fillna(X_train[columns_num].median())\n",
    "    X_train[columns_cat] = X_train[columns_cat].fillna(X_train[columns_cat].mode().loc[0])\n",
    "\n",
    "    X_test[columns_num] = X_test[columns_num].fillna(X_train[columns_num].median())\n",
    "    X_test[columns_cat] = X_test[columns_cat].fillna(X_train[columns_cat].mode().loc[0])\n",
    "\n",
    "    encoder_onehot = OneHotEncoder(dtype=int, sparse_output=False, handle_unknown='ignore')\n",
    "\n",
    "    train_data_onehot = encoder_onehot.fit_transform(X_train[columns_cat])\n",
    "    train_feature_name_onehot = encoder_onehot.get_feature_names_out()\n",
    "    train_data_onehot = pd.DataFrame(train_data_onehot, columns=train_feature_name_onehot)\n",
    "\n",
    "    test_data_onehot = encoder_onehot.transform(X_test[columns_cat])\n",
    "    test_data_onehot = pd.DataFrame(test_data_onehot, columns=train_feature_name_onehot)\n",
    "\n",
    "    X_train = pd.concat([X_train[columns_num], train_data_onehot], axis=1)\n",
    "    X_test = pd.concat([X_test[columns_num], test_data_onehot], axis=1)\n",
    "\n",
    "    return X_train, Y_train, X_test"
   ]
  },
  {
   "cell_type": "code",
   "execution_count": 7,
   "metadata": {},
   "outputs": [],
   "source": [
    "def evaluation(X_train, Y_train):\n",
    "    model_names = [model.__class__.__name__ for model in models]\n",
    "    model_scores = []\n",
    "\n",
    "    cv = ShuffleSplit(random_state=0)\n",
    "\n",
    "    for model in models:\n",
    "        model = clone(model)\n",
    "        cv_scores = cross_val_score(model, X_train, Y_train, cv=cv, scoring='accuracy', n_jobs=n_core)\n",
    "        model_scores.append(cv_scores.mean())\n",
    "\n",
    "    cv_results = pd.DataFrame(columns=['name', 'score_mean'])\n",
    "    cv_results['name'] = model_names\n",
    "    cv_results['score_mean'] = model_scores\n",
    "\n",
    "    return cv_results"
   ]
  },
  {
   "cell_type": "code",
   "execution_count": 8,
   "metadata": {},
   "outputs": [],
   "source": [
    "def predict(model, X_train, Y_train, X_test, id, label, filename = 'result_basic.csv'):\n",
    "    model = clone(model)\n",
    "\n",
    "    model.fit(X_train, Y_train)\n",
    "    predictions = model.predict(X_test).astype(bool)\n",
    "\n",
    "    result = pd.DataFrame({\n",
    "        id.name: id,\n",
    "        label: predictions\n",
    "    })\n",
    "    result.to_csv('./Result/' + filename, index=False)"
   ]
  },
  {
   "cell_type": "code",
   "execution_count": 9,
   "metadata": {},
   "outputs": [],
   "source": [
    "def tuneParameters(model, tuning_parameters, X_train, Y_train, n_core):\n",
    "    cv = ShuffleSplit(random_state=0)\n",
    "\n",
    "    tune_model = GridSearchCV(model, param_grid=tuning_parameters, scoring='accuracy', cv=cv, n_jobs=n_core)\n",
    "\n",
    "    tune_model.fit(X_train, Y_train)\n",
    "    \n",
    "    return tune_model.best_score_, tune_model.best_params_"
   ]
  },
  {
   "cell_type": "markdown",
   "metadata": {},
   "source": [
    "# Base Model"
   ]
  },
  {
   "cell_type": "code",
   "execution_count": 26,
   "metadata": {},
   "outputs": [
    {
     "name": "stdout",
     "output_type": "stream",
     "text": [
      "(8693, 6574) (8693,) (4277, 6574)\n"
     ]
    }
   ],
   "source": [
    "columns_to_drop = ['PassengerId', 'Name']\n",
    "\n",
    "X_train, Y_train, X_test = preprocess(columns_to_drop, train_data, test_data, label)\n",
    "print(X_train.shape, Y_train.shape, X_test.shape)"
   ]
  },
  {
   "cell_type": "code",
   "execution_count": 9,
   "metadata": {},
   "outputs": [
    {
     "data": {
      "text/html": [
       "<div>\n",
       "<style scoped>\n",
       "    .dataframe tbody tr th:only-of-type {\n",
       "        vertical-align: middle;\n",
       "    }\n",
       "\n",
       "    .dataframe tbody tr th {\n",
       "        vertical-align: top;\n",
       "    }\n",
       "\n",
       "    .dataframe thead th {\n",
       "        text-align: right;\n",
       "    }\n",
       "</style>\n",
       "<table border=\"1\" class=\"dataframe\">\n",
       "  <thead>\n",
       "    <tr style=\"text-align: right;\">\n",
       "      <th></th>\n",
       "      <th>name</th>\n",
       "      <th>score_mean</th>\n",
       "    </tr>\n",
       "  </thead>\n",
       "  <tbody>\n",
       "    <tr>\n",
       "      <th>0</th>\n",
       "      <td>LogisticRegression</td>\n",
       "      <td>0.774023</td>\n",
       "    </tr>\n",
       "    <tr>\n",
       "      <th>1</th>\n",
       "      <td>SVC</td>\n",
       "      <td>0.781839</td>\n",
       "    </tr>\n",
       "    <tr>\n",
       "      <th>2</th>\n",
       "      <td>DecisionTreeClassifier</td>\n",
       "      <td>0.765517</td>\n",
       "    </tr>\n",
       "    <tr>\n",
       "      <th>3</th>\n",
       "      <td>RandomForestClassifier</td>\n",
       "      <td>0.787586</td>\n",
       "    </tr>\n",
       "    <tr>\n",
       "      <th>4</th>\n",
       "      <td>GradientBoostingClassifier</td>\n",
       "      <td>0.786897</td>\n",
       "    </tr>\n",
       "    <tr>\n",
       "      <th>5</th>\n",
       "      <td>XGBClassifier</td>\n",
       "      <td>0.783563</td>\n",
       "    </tr>\n",
       "    <tr>\n",
       "      <th>6</th>\n",
       "      <td>CatBoostClassifier</td>\n",
       "      <td>0.788161</td>\n",
       "    </tr>\n",
       "  </tbody>\n",
       "</table>\n",
       "</div>"
      ],
      "text/plain": [
       "                         name  score_mean\n",
       "0          LogisticRegression    0.774023\n",
       "1                         SVC    0.781839\n",
       "2      DecisionTreeClassifier    0.765517\n",
       "3      RandomForestClassifier    0.787586\n",
       "4  GradientBoostingClassifier    0.786897\n",
       "5               XGBClassifier    0.783563\n",
       "6          CatBoostClassifier    0.788161"
      ]
     },
     "execution_count": 9,
     "metadata": {},
     "output_type": "execute_result"
    }
   ],
   "source": [
    "cv_results = evaluation(X_train, Y_train)\n",
    "cv_results"
   ]
  },
  {
   "cell_type": "code",
   "execution_count": 27,
   "metadata": {},
   "outputs": [],
   "source": [
    "model = DecisionTreeClassifier(random_state=0)\n",
    "predict(model, X_train, Y_train, X_test, id, label)"
   ]
  },
  {
   "cell_type": "markdown",
   "metadata": {},
   "source": [
    "# Improve"
   ]
  },
  {
   "cell_type": "markdown",
   "metadata": {},
   "source": [
    "## Attempt1"
   ]
  },
  {
   "cell_type": "code",
   "execution_count": 9,
   "metadata": {},
   "outputs": [
    {
     "name": "stdout",
     "output_type": "stream",
     "text": [
      "(8693, 24) (8693,) (4277, 24)\n"
     ]
    }
   ],
   "source": [
    "train_data_new, test_data_new = train_data.copy(), test_data.copy()\n",
    "\n",
    "train_data_new['Cabin'] = train_data_new['Cabin'].fillna(train_data_new['Cabin'].mode().loc[0])\n",
    "test_data_new['Cabin'] = test_data_new['Cabin'].fillna(train_data_new['Cabin'].mode().loc[0])\n",
    "\n",
    "train_data_new[['CabinDeck', 'CabinNum', 'CabinSide']] = train_data_new['Cabin'].str.split('/', expand=True)\n",
    "test_data_new[['CabinDeck', 'CabinNum', 'CabinSide']] = test_data_new['Cabin'].str.split('/', expand=True)\n",
    "\n",
    "columns_to_drop = ['PassengerId', 'Name', 'Cabin', 'CabinNum']\n",
    "\n",
    "X_train, Y_train, X_test = preprocess(columns_to_drop, train_data_new, test_data_new, label)\n",
    "print(X_train.shape, Y_train.shape, X_test.shape)"
   ]
  },
  {
   "cell_type": "code",
   "execution_count": 20,
   "metadata": {},
   "outputs": [
    {
     "data": {
      "text/html": [
       "<div>\n",
       "<style scoped>\n",
       "    .dataframe tbody tr th:only-of-type {\n",
       "        vertical-align: middle;\n",
       "    }\n",
       "\n",
       "    .dataframe tbody tr th {\n",
       "        vertical-align: top;\n",
       "    }\n",
       "\n",
       "    .dataframe thead th {\n",
       "        text-align: right;\n",
       "    }\n",
       "</style>\n",
       "<table border=\"1\" class=\"dataframe\">\n",
       "  <thead>\n",
       "    <tr style=\"text-align: right;\">\n",
       "      <th></th>\n",
       "      <th>name</th>\n",
       "      <th>score_mean</th>\n",
       "    </tr>\n",
       "  </thead>\n",
       "  <tbody>\n",
       "    <tr>\n",
       "      <th>0</th>\n",
       "      <td>LogisticRegression</td>\n",
       "      <td>0.780575</td>\n",
       "    </tr>\n",
       "    <tr>\n",
       "      <th>1</th>\n",
       "      <td>SVC</td>\n",
       "      <td>0.781839</td>\n",
       "    </tr>\n",
       "    <tr>\n",
       "      <th>2</th>\n",
       "      <td>DecisionTreeClassifier</td>\n",
       "      <td>0.733793</td>\n",
       "    </tr>\n",
       "    <tr>\n",
       "      <th>3</th>\n",
       "      <td>RandomForestClassifier</td>\n",
       "      <td>0.786207</td>\n",
       "    </tr>\n",
       "    <tr>\n",
       "      <th>4</th>\n",
       "      <td>GradientBoostingClassifier</td>\n",
       "      <td>0.796437</td>\n",
       "    </tr>\n",
       "    <tr>\n",
       "      <th>5</th>\n",
       "      <td>XGBClassifier</td>\n",
       "      <td>0.792874</td>\n",
       "    </tr>\n",
       "    <tr>\n",
       "      <th>6</th>\n",
       "      <td>CatBoostClassifier</td>\n",
       "      <td>0.803563</td>\n",
       "    </tr>\n",
       "  </tbody>\n",
       "</table>\n",
       "</div>"
      ],
      "text/plain": [
       "                         name  score_mean\n",
       "0          LogisticRegression    0.780575\n",
       "1                         SVC    0.781839\n",
       "2      DecisionTreeClassifier    0.733793\n",
       "3      RandomForestClassifier    0.786207\n",
       "4  GradientBoostingClassifier    0.796437\n",
       "5               XGBClassifier    0.792874\n",
       "6          CatBoostClassifier    0.803563"
      ]
     },
     "execution_count": 20,
     "metadata": {},
     "output_type": "execute_result"
    }
   ],
   "source": [
    "cv_results = evaluation(X_train, Y_train)\n",
    "cv_results"
   ]
  },
  {
   "cell_type": "code",
   "execution_count": 21,
   "metadata": {},
   "outputs": [
    {
     "data": {
      "text/html": [
       "<style>#sk-container-id-2 {\n",
       "  /* Definition of color scheme common for light and dark mode */\n",
       "  --sklearn-color-text: black;\n",
       "  --sklearn-color-line: gray;\n",
       "  /* Definition of color scheme for unfitted estimators */\n",
       "  --sklearn-color-unfitted-level-0: #fff5e6;\n",
       "  --sklearn-color-unfitted-level-1: #f6e4d2;\n",
       "  --sklearn-color-unfitted-level-2: #ffe0b3;\n",
       "  --sklearn-color-unfitted-level-3: chocolate;\n",
       "  /* Definition of color scheme for fitted estimators */\n",
       "  --sklearn-color-fitted-level-0: #f0f8ff;\n",
       "  --sklearn-color-fitted-level-1: #d4ebff;\n",
       "  --sklearn-color-fitted-level-2: #b3dbfd;\n",
       "  --sklearn-color-fitted-level-3: cornflowerblue;\n",
       "\n",
       "  /* Specific color for light theme */\n",
       "  --sklearn-color-text-on-default-background: var(--sg-text-color, var(--theme-code-foreground, var(--jp-content-font-color1, black)));\n",
       "  --sklearn-color-background: var(--sg-background-color, var(--theme-background, var(--jp-layout-color0, white)));\n",
       "  --sklearn-color-border-box: var(--sg-text-color, var(--theme-code-foreground, var(--jp-content-font-color1, black)));\n",
       "  --sklearn-color-icon: #696969;\n",
       "\n",
       "  @media (prefers-color-scheme: dark) {\n",
       "    /* Redefinition of color scheme for dark theme */\n",
       "    --sklearn-color-text-on-default-background: var(--sg-text-color, var(--theme-code-foreground, var(--jp-content-font-color1, white)));\n",
       "    --sklearn-color-background: var(--sg-background-color, var(--theme-background, var(--jp-layout-color0, #111)));\n",
       "    --sklearn-color-border-box: var(--sg-text-color, var(--theme-code-foreground, var(--jp-content-font-color1, white)));\n",
       "    --sklearn-color-icon: #878787;\n",
       "  }\n",
       "}\n",
       "\n",
       "#sk-container-id-2 {\n",
       "  color: var(--sklearn-color-text);\n",
       "}\n",
       "\n",
       "#sk-container-id-2 pre {\n",
       "  padding: 0;\n",
       "}\n",
       "\n",
       "#sk-container-id-2 input.sk-hidden--visually {\n",
       "  border: 0;\n",
       "  clip: rect(1px 1px 1px 1px);\n",
       "  clip: rect(1px, 1px, 1px, 1px);\n",
       "  height: 1px;\n",
       "  margin: -1px;\n",
       "  overflow: hidden;\n",
       "  padding: 0;\n",
       "  position: absolute;\n",
       "  width: 1px;\n",
       "}\n",
       "\n",
       "#sk-container-id-2 div.sk-dashed-wrapped {\n",
       "  border: 1px dashed var(--sklearn-color-line);\n",
       "  margin: 0 0.4em 0.5em 0.4em;\n",
       "  box-sizing: border-box;\n",
       "  padding-bottom: 0.4em;\n",
       "  background-color: var(--sklearn-color-background);\n",
       "}\n",
       "\n",
       "#sk-container-id-2 div.sk-container {\n",
       "  /* jupyter's `normalize.less` sets `[hidden] { display: none; }`\n",
       "     but bootstrap.min.css set `[hidden] { display: none !important; }`\n",
       "     so we also need the `!important` here to be able to override the\n",
       "     default hidden behavior on the sphinx rendered scikit-learn.org.\n",
       "     See: https://github.com/scikit-learn/scikit-learn/issues/21755 */\n",
       "  display: inline-block !important;\n",
       "  position: relative;\n",
       "}\n",
       "\n",
       "#sk-container-id-2 div.sk-text-repr-fallback {\n",
       "  display: none;\n",
       "}\n",
       "\n",
       "div.sk-parallel-item,\n",
       "div.sk-serial,\n",
       "div.sk-item {\n",
       "  /* draw centered vertical line to link estimators */\n",
       "  background-image: linear-gradient(var(--sklearn-color-text-on-default-background), var(--sklearn-color-text-on-default-background));\n",
       "  background-size: 2px 100%;\n",
       "  background-repeat: no-repeat;\n",
       "  background-position: center center;\n",
       "}\n",
       "\n",
       "/* Parallel-specific style estimator block */\n",
       "\n",
       "#sk-container-id-2 div.sk-parallel-item::after {\n",
       "  content: \"\";\n",
       "  width: 100%;\n",
       "  border-bottom: 2px solid var(--sklearn-color-text-on-default-background);\n",
       "  flex-grow: 1;\n",
       "}\n",
       "\n",
       "#sk-container-id-2 div.sk-parallel {\n",
       "  display: flex;\n",
       "  align-items: stretch;\n",
       "  justify-content: center;\n",
       "  background-color: var(--sklearn-color-background);\n",
       "  position: relative;\n",
       "}\n",
       "\n",
       "#sk-container-id-2 div.sk-parallel-item {\n",
       "  display: flex;\n",
       "  flex-direction: column;\n",
       "}\n",
       "\n",
       "#sk-container-id-2 div.sk-parallel-item:first-child::after {\n",
       "  align-self: flex-end;\n",
       "  width: 50%;\n",
       "}\n",
       "\n",
       "#sk-container-id-2 div.sk-parallel-item:last-child::after {\n",
       "  align-self: flex-start;\n",
       "  width: 50%;\n",
       "}\n",
       "\n",
       "#sk-container-id-2 div.sk-parallel-item:only-child::after {\n",
       "  width: 0;\n",
       "}\n",
       "\n",
       "/* Serial-specific style estimator block */\n",
       "\n",
       "#sk-container-id-2 div.sk-serial {\n",
       "  display: flex;\n",
       "  flex-direction: column;\n",
       "  align-items: center;\n",
       "  background-color: var(--sklearn-color-background);\n",
       "  padding-right: 1em;\n",
       "  padding-left: 1em;\n",
       "}\n",
       "\n",
       "\n",
       "/* Toggleable style: style used for estimator/Pipeline/ColumnTransformer box that is\n",
       "clickable and can be expanded/collapsed.\n",
       "- Pipeline and ColumnTransformer use this feature and define the default style\n",
       "- Estimators will overwrite some part of the style using the `sk-estimator` class\n",
       "*/\n",
       "\n",
       "/* Pipeline and ColumnTransformer style (default) */\n",
       "\n",
       "#sk-container-id-2 div.sk-toggleable {\n",
       "  /* Default theme specific background. It is overwritten whether we have a\n",
       "  specific estimator or a Pipeline/ColumnTransformer */\n",
       "  background-color: var(--sklearn-color-background);\n",
       "}\n",
       "\n",
       "/* Toggleable label */\n",
       "#sk-container-id-2 label.sk-toggleable__label {\n",
       "  cursor: pointer;\n",
       "  display: block;\n",
       "  width: 100%;\n",
       "  margin-bottom: 0;\n",
       "  padding: 0.5em;\n",
       "  box-sizing: border-box;\n",
       "  text-align: center;\n",
       "}\n",
       "\n",
       "#sk-container-id-2 label.sk-toggleable__label-arrow:before {\n",
       "  /* Arrow on the left of the label */\n",
       "  content: \"▸\";\n",
       "  float: left;\n",
       "  margin-right: 0.25em;\n",
       "  color: var(--sklearn-color-icon);\n",
       "}\n",
       "\n",
       "#sk-container-id-2 label.sk-toggleable__label-arrow:hover:before {\n",
       "  color: var(--sklearn-color-text);\n",
       "}\n",
       "\n",
       "/* Toggleable content - dropdown */\n",
       "\n",
       "#sk-container-id-2 div.sk-toggleable__content {\n",
       "  max-height: 0;\n",
       "  max-width: 0;\n",
       "  overflow: hidden;\n",
       "  text-align: left;\n",
       "  /* unfitted */\n",
       "  background-color: var(--sklearn-color-unfitted-level-0);\n",
       "}\n",
       "\n",
       "#sk-container-id-2 div.sk-toggleable__content.fitted {\n",
       "  /* fitted */\n",
       "  background-color: var(--sklearn-color-fitted-level-0);\n",
       "}\n",
       "\n",
       "#sk-container-id-2 div.sk-toggleable__content pre {\n",
       "  margin: 0.2em;\n",
       "  border-radius: 0.25em;\n",
       "  color: var(--sklearn-color-text);\n",
       "  /* unfitted */\n",
       "  background-color: var(--sklearn-color-unfitted-level-0);\n",
       "}\n",
       "\n",
       "#sk-container-id-2 div.sk-toggleable__content.fitted pre {\n",
       "  /* unfitted */\n",
       "  background-color: var(--sklearn-color-fitted-level-0);\n",
       "}\n",
       "\n",
       "#sk-container-id-2 input.sk-toggleable__control:checked~div.sk-toggleable__content {\n",
       "  /* Expand drop-down */\n",
       "  max-height: 200px;\n",
       "  max-width: 100%;\n",
       "  overflow: auto;\n",
       "}\n",
       "\n",
       "#sk-container-id-2 input.sk-toggleable__control:checked~label.sk-toggleable__label-arrow:before {\n",
       "  content: \"▾\";\n",
       "}\n",
       "\n",
       "/* Pipeline/ColumnTransformer-specific style */\n",
       "\n",
       "#sk-container-id-2 div.sk-label input.sk-toggleable__control:checked~label.sk-toggleable__label {\n",
       "  color: var(--sklearn-color-text);\n",
       "  background-color: var(--sklearn-color-unfitted-level-2);\n",
       "}\n",
       "\n",
       "#sk-container-id-2 div.sk-label.fitted input.sk-toggleable__control:checked~label.sk-toggleable__label {\n",
       "  background-color: var(--sklearn-color-fitted-level-2);\n",
       "}\n",
       "\n",
       "/* Estimator-specific style */\n",
       "\n",
       "/* Colorize estimator box */\n",
       "#sk-container-id-2 div.sk-estimator input.sk-toggleable__control:checked~label.sk-toggleable__label {\n",
       "  /* unfitted */\n",
       "  background-color: var(--sklearn-color-unfitted-level-2);\n",
       "}\n",
       "\n",
       "#sk-container-id-2 div.sk-estimator.fitted input.sk-toggleable__control:checked~label.sk-toggleable__label {\n",
       "  /* fitted */\n",
       "  background-color: var(--sklearn-color-fitted-level-2);\n",
       "}\n",
       "\n",
       "#sk-container-id-2 div.sk-label label.sk-toggleable__label,\n",
       "#sk-container-id-2 div.sk-label label {\n",
       "  /* The background is the default theme color */\n",
       "  color: var(--sklearn-color-text-on-default-background);\n",
       "}\n",
       "\n",
       "/* On hover, darken the color of the background */\n",
       "#sk-container-id-2 div.sk-label:hover label.sk-toggleable__label {\n",
       "  color: var(--sklearn-color-text);\n",
       "  background-color: var(--sklearn-color-unfitted-level-2);\n",
       "}\n",
       "\n",
       "/* Label box, darken color on hover, fitted */\n",
       "#sk-container-id-2 div.sk-label.fitted:hover label.sk-toggleable__label.fitted {\n",
       "  color: var(--sklearn-color-text);\n",
       "  background-color: var(--sklearn-color-fitted-level-2);\n",
       "}\n",
       "\n",
       "/* Estimator label */\n",
       "\n",
       "#sk-container-id-2 div.sk-label label {\n",
       "  font-family: monospace;\n",
       "  font-weight: bold;\n",
       "  display: inline-block;\n",
       "  line-height: 1.2em;\n",
       "}\n",
       "\n",
       "#sk-container-id-2 div.sk-label-container {\n",
       "  text-align: center;\n",
       "}\n",
       "\n",
       "/* Estimator-specific */\n",
       "#sk-container-id-2 div.sk-estimator {\n",
       "  font-family: monospace;\n",
       "  border: 1px dotted var(--sklearn-color-border-box);\n",
       "  border-radius: 0.25em;\n",
       "  box-sizing: border-box;\n",
       "  margin-bottom: 0.5em;\n",
       "  /* unfitted */\n",
       "  background-color: var(--sklearn-color-unfitted-level-0);\n",
       "}\n",
       "\n",
       "#sk-container-id-2 div.sk-estimator.fitted {\n",
       "  /* fitted */\n",
       "  background-color: var(--sklearn-color-fitted-level-0);\n",
       "}\n",
       "\n",
       "/* on hover */\n",
       "#sk-container-id-2 div.sk-estimator:hover {\n",
       "  /* unfitted */\n",
       "  background-color: var(--sklearn-color-unfitted-level-2);\n",
       "}\n",
       "\n",
       "#sk-container-id-2 div.sk-estimator.fitted:hover {\n",
       "  /* fitted */\n",
       "  background-color: var(--sklearn-color-fitted-level-2);\n",
       "}\n",
       "\n",
       "/* Specification for estimator info (e.g. \"i\" and \"?\") */\n",
       "\n",
       "/* Common style for \"i\" and \"?\" */\n",
       "\n",
       ".sk-estimator-doc-link,\n",
       "a:link.sk-estimator-doc-link,\n",
       "a:visited.sk-estimator-doc-link {\n",
       "  float: right;\n",
       "  font-size: smaller;\n",
       "  line-height: 1em;\n",
       "  font-family: monospace;\n",
       "  background-color: var(--sklearn-color-background);\n",
       "  border-radius: 1em;\n",
       "  height: 1em;\n",
       "  width: 1em;\n",
       "  text-decoration: none !important;\n",
       "  margin-left: 1ex;\n",
       "  /* unfitted */\n",
       "  border: var(--sklearn-color-unfitted-level-1) 1pt solid;\n",
       "  color: var(--sklearn-color-unfitted-level-1);\n",
       "}\n",
       "\n",
       ".sk-estimator-doc-link.fitted,\n",
       "a:link.sk-estimator-doc-link.fitted,\n",
       "a:visited.sk-estimator-doc-link.fitted {\n",
       "  /* fitted */\n",
       "  border: var(--sklearn-color-fitted-level-1) 1pt solid;\n",
       "  color: var(--sklearn-color-fitted-level-1);\n",
       "}\n",
       "\n",
       "/* On hover */\n",
       "div.sk-estimator:hover .sk-estimator-doc-link:hover,\n",
       ".sk-estimator-doc-link:hover,\n",
       "div.sk-label-container:hover .sk-estimator-doc-link:hover,\n",
       ".sk-estimator-doc-link:hover {\n",
       "  /* unfitted */\n",
       "  background-color: var(--sklearn-color-unfitted-level-3);\n",
       "  color: var(--sklearn-color-background);\n",
       "  text-decoration: none;\n",
       "}\n",
       "\n",
       "div.sk-estimator.fitted:hover .sk-estimator-doc-link.fitted:hover,\n",
       ".sk-estimator-doc-link.fitted:hover,\n",
       "div.sk-label-container:hover .sk-estimator-doc-link.fitted:hover,\n",
       ".sk-estimator-doc-link.fitted:hover {\n",
       "  /* fitted */\n",
       "  background-color: var(--sklearn-color-fitted-level-3);\n",
       "  color: var(--sklearn-color-background);\n",
       "  text-decoration: none;\n",
       "}\n",
       "\n",
       "/* Span, style for the box shown on hovering the info icon */\n",
       ".sk-estimator-doc-link span {\n",
       "  display: none;\n",
       "  z-index: 9999;\n",
       "  position: relative;\n",
       "  font-weight: normal;\n",
       "  right: .2ex;\n",
       "  padding: .5ex;\n",
       "  margin: .5ex;\n",
       "  width: min-content;\n",
       "  min-width: 20ex;\n",
       "  max-width: 50ex;\n",
       "  color: var(--sklearn-color-text);\n",
       "  box-shadow: 2pt 2pt 4pt #999;\n",
       "  /* unfitted */\n",
       "  background: var(--sklearn-color-unfitted-level-0);\n",
       "  border: .5pt solid var(--sklearn-color-unfitted-level-3);\n",
       "}\n",
       "\n",
       ".sk-estimator-doc-link.fitted span {\n",
       "  /* fitted */\n",
       "  background: var(--sklearn-color-fitted-level-0);\n",
       "  border: var(--sklearn-color-fitted-level-3);\n",
       "}\n",
       "\n",
       ".sk-estimator-doc-link:hover span {\n",
       "  display: block;\n",
       "}\n",
       "\n",
       "/* \"?\"-specific style due to the `<a>` HTML tag */\n",
       "\n",
       "#sk-container-id-2 a.estimator_doc_link {\n",
       "  float: right;\n",
       "  font-size: 1rem;\n",
       "  line-height: 1em;\n",
       "  font-family: monospace;\n",
       "  background-color: var(--sklearn-color-background);\n",
       "  border-radius: 1rem;\n",
       "  height: 1rem;\n",
       "  width: 1rem;\n",
       "  text-decoration: none;\n",
       "  /* unfitted */\n",
       "  color: var(--sklearn-color-unfitted-level-1);\n",
       "  border: var(--sklearn-color-unfitted-level-1) 1pt solid;\n",
       "}\n",
       "\n",
       "#sk-container-id-2 a.estimator_doc_link.fitted {\n",
       "  /* fitted */\n",
       "  border: var(--sklearn-color-fitted-level-1) 1pt solid;\n",
       "  color: var(--sklearn-color-fitted-level-1);\n",
       "}\n",
       "\n",
       "/* On hover */\n",
       "#sk-container-id-2 a.estimator_doc_link:hover {\n",
       "  /* unfitted */\n",
       "  background-color: var(--sklearn-color-unfitted-level-3);\n",
       "  color: var(--sklearn-color-background);\n",
       "  text-decoration: none;\n",
       "}\n",
       "\n",
       "#sk-container-id-2 a.estimator_doc_link.fitted:hover {\n",
       "  /* fitted */\n",
       "  background-color: var(--sklearn-color-fitted-level-3);\n",
       "}\n",
       "</style><div id=\"sk-container-id-2\" class=\"sk-top-container\"><div class=\"sk-text-repr-fallback\"><pre>RFECV(cv=ShuffleSplit(n_splits=10, random_state=0, test_size=None, train_size=None),\n",
       "      estimator=RandomForestClassifier(oob_score=True, random_state=0),\n",
       "      n_jobs=3, scoring=&#x27;accuracy&#x27;)</pre><b>In a Jupyter environment, please rerun this cell to show the HTML representation or trust the notebook. <br />On GitHub, the HTML representation is unable to render, please try loading this page with nbviewer.org.</b></div><div class=\"sk-container\" hidden><div class=\"sk-item sk-dashed-wrapped\"><div class=\"sk-label-container\"><div class=\"sk-label fitted sk-toggleable\"><input class=\"sk-toggleable__control sk-hidden--visually\" id=\"sk-estimator-id-4\" type=\"checkbox\" ><label for=\"sk-estimator-id-4\" class=\"sk-toggleable__label fitted sk-toggleable__label-arrow fitted\">&nbsp;&nbsp;RFECV<a class=\"sk-estimator-doc-link fitted\" rel=\"noreferrer\" target=\"_blank\" href=\"https://scikit-learn.org/1.5/modules/generated/sklearn.feature_selection.RFECV.html\">?<span>Documentation for RFECV</span></a><span class=\"sk-estimator-doc-link fitted\">i<span>Fitted</span></span></label><div class=\"sk-toggleable__content fitted\"><pre>RFECV(cv=ShuffleSplit(n_splits=10, random_state=0, test_size=None, train_size=None),\n",
       "      estimator=RandomForestClassifier(oob_score=True, random_state=0),\n",
       "      n_jobs=3, scoring=&#x27;accuracy&#x27;)</pre></div> </div></div><div class=\"sk-parallel\"><div class=\"sk-parallel-item\"><div class=\"sk-item\"><div class=\"sk-label-container\"><div class=\"sk-label fitted sk-toggleable\"><input class=\"sk-toggleable__control sk-hidden--visually\" id=\"sk-estimator-id-5\" type=\"checkbox\" ><label for=\"sk-estimator-id-5\" class=\"sk-toggleable__label fitted sk-toggleable__label-arrow fitted\">estimator: RandomForestClassifier</label><div class=\"sk-toggleable__content fitted\"><pre>RandomForestClassifier(oob_score=True, random_state=0)</pre></div> </div></div><div class=\"sk-serial\"><div class=\"sk-item\"><div class=\"sk-estimator fitted sk-toggleable\"><input class=\"sk-toggleable__control sk-hidden--visually\" id=\"sk-estimator-id-6\" type=\"checkbox\" ><label for=\"sk-estimator-id-6\" class=\"sk-toggleable__label fitted sk-toggleable__label-arrow fitted\">&nbsp;RandomForestClassifier<a class=\"sk-estimator-doc-link fitted\" rel=\"noreferrer\" target=\"_blank\" href=\"https://scikit-learn.org/1.5/modules/generated/sklearn.ensemble.RandomForestClassifier.html\">?<span>Documentation for RandomForestClassifier</span></a></label><div class=\"sk-toggleable__content fitted\"><pre>RandomForestClassifier(oob_score=True, random_state=0)</pre></div> </div></div></div></div></div></div></div></div></div>"
      ],
      "text/plain": [
       "RFECV(cv=ShuffleSplit(n_splits=10, random_state=0, test_size=None, train_size=None),\n",
       "      estimator=RandomForestClassifier(oob_score=True, random_state=0),\n",
       "      n_jobs=3, scoring='accuracy')"
      ]
     },
     "execution_count": 21,
     "metadata": {},
     "output_type": "execute_result"
    }
   ],
   "source": [
    "cv = ShuffleSplit(random_state=0)\n",
    "model = RandomForestClassifier(random_state=0, oob_score=True)\n",
    "selector = RFECV(estimator=model, cv=cv, scoring='accuracy', n_jobs=n_core)\n",
    "selector.fit(X_train, Y_train)"
   ]
  },
  {
   "cell_type": "code",
   "execution_count": 22,
   "metadata": {},
   "outputs": [
    {
     "data": {
      "text/html": [
       "<div>\n",
       "<style scoped>\n",
       "    .dataframe tbody tr th:only-of-type {\n",
       "        vertical-align: middle;\n",
       "    }\n",
       "\n",
       "    .dataframe tbody tr th {\n",
       "        vertical-align: top;\n",
       "    }\n",
       "\n",
       "    .dataframe thead th {\n",
       "        text-align: right;\n",
       "    }\n",
       "</style>\n",
       "<table border=\"1\" class=\"dataframe\">\n",
       "  <thead>\n",
       "    <tr style=\"text-align: right;\">\n",
       "      <th></th>\n",
       "      <th>feature</th>\n",
       "      <th>importance</th>\n",
       "    </tr>\n",
       "  </thead>\n",
       "  <tbody>\n",
       "    <tr>\n",
       "      <th>1</th>\n",
       "      <td>Age</td>\n",
       "      <td>0.171840</td>\n",
       "    </tr>\n",
       "    <tr>\n",
       "      <th>2</th>\n",
       "      <td>RoomService</td>\n",
       "      <td>0.125341</td>\n",
       "    </tr>\n",
       "    <tr>\n",
       "      <th>5</th>\n",
       "      <td>Spa</td>\n",
       "      <td>0.120410</td>\n",
       "    </tr>\n",
       "    <tr>\n",
       "      <th>6</th>\n",
       "      <td>VRDeck</td>\n",
       "      <td>0.112883</td>\n",
       "    </tr>\n",
       "    <tr>\n",
       "      <th>3</th>\n",
       "      <td>FoodCourt</td>\n",
       "      <td>0.108934</td>\n",
       "    </tr>\n",
       "    <tr>\n",
       "      <th>0</th>\n",
       "      <td>CryoSleep</td>\n",
       "      <td>0.104521</td>\n",
       "    </tr>\n",
       "    <tr>\n",
       "      <th>4</th>\n",
       "      <td>ShoppingMall</td>\n",
       "      <td>0.094884</td>\n",
       "    </tr>\n",
       "    <tr>\n",
       "      <th>7</th>\n",
       "      <td>HomePlanet_Earth</td>\n",
       "      <td>0.029127</td>\n",
       "    </tr>\n",
       "    <tr>\n",
       "      <th>14</th>\n",
       "      <td>CabinDeck_E</td>\n",
       "      <td>0.017816</td>\n",
       "    </tr>\n",
       "    <tr>\n",
       "      <th>8</th>\n",
       "      <td>HomePlanet_Europa</td>\n",
       "      <td>0.017548</td>\n",
       "    </tr>\n",
       "    <tr>\n",
       "      <th>15</th>\n",
       "      <td>CabinDeck_F</td>\n",
       "      <td>0.015973</td>\n",
       "    </tr>\n",
       "    <tr>\n",
       "      <th>16</th>\n",
       "      <td>CabinDeck_G</td>\n",
       "      <td>0.015792</td>\n",
       "    </tr>\n",
       "    <tr>\n",
       "      <th>18</th>\n",
       "      <td>CabinSide_S</td>\n",
       "      <td>0.011272</td>\n",
       "    </tr>\n",
       "    <tr>\n",
       "      <th>12</th>\n",
       "      <td>Destination_TRAPPIST-1e</td>\n",
       "      <td>0.011178</td>\n",
       "    </tr>\n",
       "    <tr>\n",
       "      <th>9</th>\n",
       "      <td>HomePlanet_Mars</td>\n",
       "      <td>0.010973</td>\n",
       "    </tr>\n",
       "    <tr>\n",
       "      <th>17</th>\n",
       "      <td>CabinSide_P</td>\n",
       "      <td>0.009637</td>\n",
       "    </tr>\n",
       "    <tr>\n",
       "      <th>10</th>\n",
       "      <td>Destination_55 Cancri e</td>\n",
       "      <td>0.009149</td>\n",
       "    </tr>\n",
       "    <tr>\n",
       "      <th>13</th>\n",
       "      <td>CabinDeck_C</td>\n",
       "      <td>0.006493</td>\n",
       "    </tr>\n",
       "    <tr>\n",
       "      <th>11</th>\n",
       "      <td>Destination_PSO J318.5-22</td>\n",
       "      <td>0.006229</td>\n",
       "    </tr>\n",
       "  </tbody>\n",
       "</table>\n",
       "</div>"
      ],
      "text/plain": [
       "                      feature  importance\n",
       "1                         Age    0.171840\n",
       "2                 RoomService    0.125341\n",
       "5                         Spa    0.120410\n",
       "6                      VRDeck    0.112883\n",
       "3                   FoodCourt    0.108934\n",
       "0                   CryoSleep    0.104521\n",
       "4                ShoppingMall    0.094884\n",
       "7            HomePlanet_Earth    0.029127\n",
       "14                CabinDeck_E    0.017816\n",
       "8           HomePlanet_Europa    0.017548\n",
       "15                CabinDeck_F    0.015973\n",
       "16                CabinDeck_G    0.015792\n",
       "18                CabinSide_S    0.011272\n",
       "12    Destination_TRAPPIST-1e    0.011178\n",
       "9             HomePlanet_Mars    0.010973\n",
       "17                CabinSide_P    0.009637\n",
       "10    Destination_55 Cancri e    0.009149\n",
       "13                CabinDeck_C    0.006493\n",
       "11  Destination_PSO J318.5-22    0.006229"
      ]
     },
     "execution_count": 22,
     "metadata": {},
     "output_type": "execute_result"
    }
   ],
   "source": [
    "importances = pd.DataFrame(columns=['feature', 'importance'])\n",
    "importances['feature'] = selector.get_feature_names_out()\n",
    "importances['importance'] = selector.estimator_.feature_importances_\n",
    "\n",
    "importances.sort_values(by='importance', ascending=False)"
   ]
  },
  {
   "cell_type": "code",
   "execution_count": 29,
   "metadata": {},
   "outputs": [
    {
     "data": {
      "text/plain": [
       "['VIP', 'CabinDeck_A', 'CabinDeck_B', 'CabinDeck_D', 'CabinDeck_T']"
      ]
     },
     "execution_count": 29,
     "metadata": {},
     "output_type": "execute_result"
    }
   ],
   "source": [
    "features_to_drop = [f for f in X_train.columns if f not in selector.get_feature_names_out()]\n",
    "features_to_drop"
   ]
  },
  {
   "cell_type": "code",
   "execution_count": 30,
   "metadata": {},
   "outputs": [],
   "source": [
    "X_train = X_train.drop(features_to_drop, axis=1)\n",
    "X_test = X_test.drop(features_to_drop, axis=1)\n",
    "\n",
    "model = RandomForestClassifier(random_state=0, oob_score=True)\n",
    "predict(model, X_train, Y_train, X_test, id, label, 'result.csv')"
   ]
  },
  {
   "cell_type": "markdown",
   "metadata": {},
   "source": [
    "## Attempt2"
   ]
  },
  {
   "cell_type": "code",
   "execution_count": 10,
   "metadata": {},
   "outputs": [
    {
     "name": "stdout",
     "output_type": "stream",
     "text": [
      "(8693, 30) (8693,) (4277, 30)\n"
     ]
    }
   ],
   "source": [
    "train_data_new, test_data_new = train_data.copy(), test_data.copy()\n",
    "\n",
    "train_data_new['Cabin'] = train_data_new['Cabin'].fillna(train_data_new['Cabin'].mode().loc[0])\n",
    "test_data_new['Cabin'] = test_data_new['Cabin'].fillna(train_data_new['Cabin'].mode().loc[0])\n",
    "\n",
    "train_data_new[['CabinDeck', 'CabinNum', 'CabinSide']] = train_data_new['Cabin'].str.split('/', expand=True)\n",
    "test_data_new[['CabinDeck', 'CabinNum', 'CabinSide']] = test_data_new['Cabin'].str.split('/', expand=True)\n",
    "\n",
    "train_data_new['TotalSpending'] = train_data_new[['RoomService', 'FoodCourt', 'ShoppingMall', 'Spa', 'VRDeck']].sum(axis=1)\n",
    "test_data_new['TotalSpending'] = test_data_new[['RoomService', 'FoodCourt', 'ShoppingMall', 'Spa', 'VRDeck']].sum(axis=1)\n",
    "\n",
    "train_data_new['LuxurySpending'] = train_data_new[['RoomService', 'Spa', 'VRDeck']].sum(axis=1)\n",
    "test_data_new['LuxurySpending'] = test_data_new[['RoomService', 'Spa', 'VRDeck']].sum(axis=1)\n",
    "\n",
    "train_data_new['EssentialSpending'] = train_data_new[['FoodCourt', 'ShoppingMall']].sum(axis=1)\n",
    "test_data_new['EssentialSpending'] = test_data_new[['FoodCourt', 'ShoppingMall']].sum(axis=1)\n",
    "\n",
    "train_data_new['HasSpending'] = train_data_new['TotalSpending'].apply(lambda x: 1 if x > 0 else 0)\n",
    "test_data_new['HasSpending'] = test_data_new['TotalSpending'].apply(lambda x: 1 if x > 0 else 0)\n",
    "\n",
    "train_data_new['PassengerGroup'] = train_data_new['PassengerId'].apply(lambda x: x.split('_')[0])\n",
    "test_data_new['PassengerGroup'] = test_data_new['PassengerId'].apply(lambda x: x.split('_')[0])\n",
    "\n",
    "count_train = train_data_new['PassengerGroup'].value_counts()\n",
    "count_test = test_data_new['PassengerGroup'].value_counts()\n",
    "\n",
    "train_data_new['PassengerGroupSize'] = train_data_new['PassengerGroup'].apply(lambda x: count_train[x])\n",
    "test_data_new['PassengerGroupSize'] = test_data_new['PassengerGroup'].apply(lambda x: count_test[x])\n",
    "\n",
    "train_data_new['Alone'] = train_data_new['PassengerGroupSize'].apply(lambda x: 1 if x == 1 else 0)\n",
    "test_data_new['Alone'] = test_data_new['PassengerGroupSize'].apply(lambda x: 1 if x == 1 else 0)\n",
    "\n",
    "columns_to_drop = ['PassengerId', 'Name', 'Cabin', 'CabinNum', 'PassengerGroup']\n",
    "\n",
    "X_train, Y_train, X_test = preprocess(columns_to_drop, train_data_new, test_data_new, label)\n",
    "print(X_train.shape, Y_train.shape, X_test.shape)"
   ]
  },
  {
   "cell_type": "code",
   "execution_count": 10,
   "metadata": {},
   "outputs": [
    {
     "data": {
      "text/html": [
       "<div>\n",
       "<style scoped>\n",
       "    .dataframe tbody tr th:only-of-type {\n",
       "        vertical-align: middle;\n",
       "    }\n",
       "\n",
       "    .dataframe tbody tr th {\n",
       "        vertical-align: top;\n",
       "    }\n",
       "\n",
       "    .dataframe thead th {\n",
       "        text-align: right;\n",
       "    }\n",
       "</style>\n",
       "<table border=\"1\" class=\"dataframe\">\n",
       "  <thead>\n",
       "    <tr style=\"text-align: right;\">\n",
       "      <th></th>\n",
       "      <th>name</th>\n",
       "      <th>score_mean</th>\n",
       "    </tr>\n",
       "  </thead>\n",
       "  <tbody>\n",
       "    <tr>\n",
       "      <th>0</th>\n",
       "      <td>LogisticRegression</td>\n",
       "      <td>0.782299</td>\n",
       "    </tr>\n",
       "    <tr>\n",
       "      <th>1</th>\n",
       "      <td>SVC</td>\n",
       "      <td>0.782299</td>\n",
       "    </tr>\n",
       "    <tr>\n",
       "      <th>2</th>\n",
       "      <td>DecisionTreeClassifier</td>\n",
       "      <td>0.736552</td>\n",
       "    </tr>\n",
       "    <tr>\n",
       "      <th>3</th>\n",
       "      <td>RandomForestClassifier</td>\n",
       "      <td>0.784828</td>\n",
       "    </tr>\n",
       "    <tr>\n",
       "      <th>4</th>\n",
       "      <td>GradientBoostingClassifier</td>\n",
       "      <td>0.796207</td>\n",
       "    </tr>\n",
       "    <tr>\n",
       "      <th>5</th>\n",
       "      <td>XGBClassifier</td>\n",
       "      <td>0.797356</td>\n",
       "    </tr>\n",
       "    <tr>\n",
       "      <th>6</th>\n",
       "      <td>CatBoostClassifier</td>\n",
       "      <td>0.808736</td>\n",
       "    </tr>\n",
       "  </tbody>\n",
       "</table>\n",
       "</div>"
      ],
      "text/plain": [
       "                         name  score_mean\n",
       "0          LogisticRegression    0.782299\n",
       "1                         SVC    0.782299\n",
       "2      DecisionTreeClassifier    0.736552\n",
       "3      RandomForestClassifier    0.784828\n",
       "4  GradientBoostingClassifier    0.796207\n",
       "5               XGBClassifier    0.797356\n",
       "6          CatBoostClassifier    0.808736"
      ]
     },
     "execution_count": 10,
     "metadata": {},
     "output_type": "execute_result"
    }
   ],
   "source": [
    "cv_results = evaluation(X_train, Y_train)\n",
    "cv_results"
   ]
  },
  {
   "cell_type": "markdown",
   "metadata": {},
   "source": [
    "### Feature Selection"
   ]
  },
  {
   "cell_type": "code",
   "execution_count": 11,
   "metadata": {},
   "outputs": [
    {
     "data": {
      "text/html": [
       "<div>\n",
       "<style scoped>\n",
       "    .dataframe tbody tr th:only-of-type {\n",
       "        vertical-align: middle;\n",
       "    }\n",
       "\n",
       "    .dataframe tbody tr th {\n",
       "        vertical-align: top;\n",
       "    }\n",
       "\n",
       "    .dataframe thead th {\n",
       "        text-align: right;\n",
       "    }\n",
       "</style>\n",
       "<table border=\"1\" class=\"dataframe\">\n",
       "  <thead>\n",
       "    <tr style=\"text-align: right;\">\n",
       "      <th></th>\n",
       "      <th>feature</th>\n",
       "      <th>importance</th>\n",
       "    </tr>\n",
       "  </thead>\n",
       "  <tbody>\n",
       "    <tr>\n",
       "      <th>8</th>\n",
       "      <td>LuxurySpending</td>\n",
       "      <td>0.183731</td>\n",
       "    </tr>\n",
       "    <tr>\n",
       "      <th>1</th>\n",
       "      <td>Age</td>\n",
       "      <td>0.147848</td>\n",
       "    </tr>\n",
       "    <tr>\n",
       "      <th>7</th>\n",
       "      <td>TotalSpending</td>\n",
       "      <td>0.102294</td>\n",
       "    </tr>\n",
       "    <tr>\n",
       "      <th>9</th>\n",
       "      <td>EssentialSpending</td>\n",
       "      <td>0.079989</td>\n",
       "    </tr>\n",
       "    <tr>\n",
       "      <th>3</th>\n",
       "      <td>FoodCourt</td>\n",
       "      <td>0.049263</td>\n",
       "    </tr>\n",
       "    <tr>\n",
       "      <th>2</th>\n",
       "      <td>RoomService</td>\n",
       "      <td>0.048569</td>\n",
       "    </tr>\n",
       "    <tr>\n",
       "      <th>10</th>\n",
       "      <td>HasSpending</td>\n",
       "      <td>0.047883</td>\n",
       "    </tr>\n",
       "    <tr>\n",
       "      <th>5</th>\n",
       "      <td>Spa</td>\n",
       "      <td>0.047826</td>\n",
       "    </tr>\n",
       "    <tr>\n",
       "      <th>6</th>\n",
       "      <td>VRDeck</td>\n",
       "      <td>0.046320</td>\n",
       "    </tr>\n",
       "    <tr>\n",
       "      <th>4</th>\n",
       "      <td>ShoppingMall</td>\n",
       "      <td>0.039706</td>\n",
       "    </tr>\n",
       "    <tr>\n",
       "      <th>11</th>\n",
       "      <td>PassengerGroupSize</td>\n",
       "      <td>0.034570</td>\n",
       "    </tr>\n",
       "    <tr>\n",
       "      <th>0</th>\n",
       "      <td>CryoSleep</td>\n",
       "      <td>0.030450</td>\n",
       "    </tr>\n",
       "    <tr>\n",
       "      <th>13</th>\n",
       "      <td>HomePlanet_Earth</td>\n",
       "      <td>0.024003</td>\n",
       "    </tr>\n",
       "    <tr>\n",
       "      <th>20</th>\n",
       "      <td>CabinDeck_E</td>\n",
       "      <td>0.017324</td>\n",
       "    </tr>\n",
       "    <tr>\n",
       "      <th>22</th>\n",
       "      <td>CabinDeck_G</td>\n",
       "      <td>0.014542</td>\n",
       "    </tr>\n",
       "    <tr>\n",
       "      <th>14</th>\n",
       "      <td>HomePlanet_Europa</td>\n",
       "      <td>0.013616</td>\n",
       "    </tr>\n",
       "    <tr>\n",
       "      <th>21</th>\n",
       "      <td>CabinDeck_F</td>\n",
       "      <td>0.013409</td>\n",
       "    </tr>\n",
       "    <tr>\n",
       "      <th>24</th>\n",
       "      <td>CabinSide_S</td>\n",
       "      <td>0.009315</td>\n",
       "    </tr>\n",
       "    <tr>\n",
       "      <th>23</th>\n",
       "      <td>CabinSide_P</td>\n",
       "      <td>0.008567</td>\n",
       "    </tr>\n",
       "    <tr>\n",
       "      <th>18</th>\n",
       "      <td>Destination_TRAPPIST-1e</td>\n",
       "      <td>0.008135</td>\n",
       "    </tr>\n",
       "    <tr>\n",
       "      <th>12</th>\n",
       "      <td>Alone</td>\n",
       "      <td>0.007727</td>\n",
       "    </tr>\n",
       "    <tr>\n",
       "      <th>16</th>\n",
       "      <td>Destination_55 Cancri e</td>\n",
       "      <td>0.007231</td>\n",
       "    </tr>\n",
       "    <tr>\n",
       "      <th>15</th>\n",
       "      <td>HomePlanet_Mars</td>\n",
       "      <td>0.006449</td>\n",
       "    </tr>\n",
       "    <tr>\n",
       "      <th>19</th>\n",
       "      <td>CabinDeck_C</td>\n",
       "      <td>0.005997</td>\n",
       "    </tr>\n",
       "    <tr>\n",
       "      <th>17</th>\n",
       "      <td>Destination_PSO J318.5-22</td>\n",
       "      <td>0.005236</td>\n",
       "    </tr>\n",
       "  </tbody>\n",
       "</table>\n",
       "</div>"
      ],
      "text/plain": [
       "                      feature  importance\n",
       "8              LuxurySpending    0.183731\n",
       "1                         Age    0.147848\n",
       "7               TotalSpending    0.102294\n",
       "9           EssentialSpending    0.079989\n",
       "3                   FoodCourt    0.049263\n",
       "2                 RoomService    0.048569\n",
       "10                HasSpending    0.047883\n",
       "5                         Spa    0.047826\n",
       "6                      VRDeck    0.046320\n",
       "4                ShoppingMall    0.039706\n",
       "11         PassengerGroupSize    0.034570\n",
       "0                   CryoSleep    0.030450\n",
       "13           HomePlanet_Earth    0.024003\n",
       "20                CabinDeck_E    0.017324\n",
       "22                CabinDeck_G    0.014542\n",
       "14          HomePlanet_Europa    0.013616\n",
       "21                CabinDeck_F    0.013409\n",
       "24                CabinSide_S    0.009315\n",
       "23                CabinSide_P    0.008567\n",
       "18    Destination_TRAPPIST-1e    0.008135\n",
       "12                      Alone    0.007727\n",
       "16    Destination_55 Cancri e    0.007231\n",
       "15            HomePlanet_Mars    0.006449\n",
       "19                CabinDeck_C    0.005997\n",
       "17  Destination_PSO J318.5-22    0.005236"
      ]
     },
     "execution_count": 11,
     "metadata": {},
     "output_type": "execute_result"
    }
   ],
   "source": [
    "cv = ShuffleSplit(random_state=0)\n",
    "model = RandomForestClassifier(random_state=0, oob_score=True)\n",
    "selector = RFECV(estimator=model, cv=cv, scoring='accuracy', n_jobs=n_core)\n",
    "selector.fit(X_train, Y_train)\n",
    "\n",
    "importances = pd.DataFrame(columns=['feature', 'importance'])\n",
    "importances['feature'] = selector.get_feature_names_out()\n",
    "importances['importance'] = selector.estimator_.feature_importances_\n",
    "\n",
    "importances.sort_values(by='importance', ascending=False)"
   ]
  },
  {
   "cell_type": "code",
   "execution_count": 12,
   "metadata": {},
   "outputs": [
    {
     "data": {
      "text/plain": [
       "['VIP', 'CabinDeck_A', 'CabinDeck_B', 'CabinDeck_D', 'CabinDeck_T']"
      ]
     },
     "execution_count": 12,
     "metadata": {},
     "output_type": "execute_result"
    }
   ],
   "source": [
    "features_to_drop = [f for f in X_train.columns if f not in selector.get_feature_names_out()]\n",
    "features_to_drop"
   ]
  },
  {
   "cell_type": "code",
   "execution_count": 13,
   "metadata": {},
   "outputs": [
    {
     "data": {
      "text/html": [
       "<div>\n",
       "<style scoped>\n",
       "    .dataframe tbody tr th:only-of-type {\n",
       "        vertical-align: middle;\n",
       "    }\n",
       "\n",
       "    .dataframe tbody tr th {\n",
       "        vertical-align: top;\n",
       "    }\n",
       "\n",
       "    .dataframe thead th {\n",
       "        text-align: right;\n",
       "    }\n",
       "</style>\n",
       "<table border=\"1\" class=\"dataframe\">\n",
       "  <thead>\n",
       "    <tr style=\"text-align: right;\">\n",
       "      <th></th>\n",
       "      <th>name</th>\n",
       "      <th>score_mean</th>\n",
       "    </tr>\n",
       "  </thead>\n",
       "  <tbody>\n",
       "    <tr>\n",
       "      <th>0</th>\n",
       "      <td>LogisticRegression</td>\n",
       "      <td>0.784138</td>\n",
       "    </tr>\n",
       "    <tr>\n",
       "      <th>1</th>\n",
       "      <td>SVC</td>\n",
       "      <td>0.782529</td>\n",
       "    </tr>\n",
       "    <tr>\n",
       "      <th>2</th>\n",
       "      <td>DecisionTreeClassifier</td>\n",
       "      <td>0.741609</td>\n",
       "    </tr>\n",
       "    <tr>\n",
       "      <th>3</th>\n",
       "      <td>RandomForestClassifier</td>\n",
       "      <td>0.786322</td>\n",
       "    </tr>\n",
       "    <tr>\n",
       "      <th>4</th>\n",
       "      <td>GradientBoostingClassifier</td>\n",
       "      <td>0.798046</td>\n",
       "    </tr>\n",
       "    <tr>\n",
       "      <th>5</th>\n",
       "      <td>XGBClassifier</td>\n",
       "      <td>0.795862</td>\n",
       "    </tr>\n",
       "    <tr>\n",
       "      <th>6</th>\n",
       "      <td>CatBoostClassifier</td>\n",
       "      <td>0.808621</td>\n",
       "    </tr>\n",
       "  </tbody>\n",
       "</table>\n",
       "</div>"
      ],
      "text/plain": [
       "                         name  score_mean\n",
       "0          LogisticRegression    0.784138\n",
       "1                         SVC    0.782529\n",
       "2      DecisionTreeClassifier    0.741609\n",
       "3      RandomForestClassifier    0.786322\n",
       "4  GradientBoostingClassifier    0.798046\n",
       "5               XGBClassifier    0.795862\n",
       "6          CatBoostClassifier    0.808621"
      ]
     },
     "execution_count": 13,
     "metadata": {},
     "output_type": "execute_result"
    }
   ],
   "source": [
    "X_train = X_train.drop(features_to_drop, axis=1)\n",
    "X_test = X_test.drop(features_to_drop, axis=1)\n",
    "\n",
    "cv_results = evaluation(X_train, Y_train)\n",
    "cv_results"
   ]
  },
  {
   "cell_type": "code",
   "execution_count": 55,
   "metadata": {},
   "outputs": [],
   "source": [
    "model = RandomForestClassifier(random_state=0, oob_score=True)\n",
    "predict(model, X_train, Y_train, X_test, id, label, 'result.csv')"
   ]
  },
  {
   "cell_type": "markdown",
   "metadata": {},
   "source": [
    "### Hyperparameter Tuning"
   ]
  },
  {
   "cell_type": "code",
   "execution_count": 11,
   "metadata": {},
   "outputs": [],
   "source": [
    "features_to_drop = ['VIP', 'CabinDeck_A', 'CabinDeck_B', 'CabinDeck_D', 'CabinDeck_T']\n",
    "\n",
    "X_train = X_train.drop(features_to_drop, axis=1)\n",
    "X_test = X_test.drop(features_to_drop, axis=1)"
   ]
  },
  {
   "cell_type": "code",
   "execution_count": 12,
   "metadata": {},
   "outputs": [
    {
     "name": "stdout",
     "output_type": "stream",
     "text": [
      "0.7858620689655174\n",
      "{'C': 0.01}\n"
     ]
    }
   ],
   "source": [
    "tuning_parameters = {\n",
    "    'C': [0.01, 0.1, 1, 10, 100],\n",
    "}\n",
    "\n",
    "model = LogisticRegression(max_iter=100000, random_state=0)\n",
    "best_score, best_params = tuneParameters(model, tuning_parameters, X_train, Y_train, n_core)\n",
    "print(best_score)\n",
    "print(best_params)"
   ]
  },
  {
   "cell_type": "code",
   "execution_count": 13,
   "metadata": {},
   "outputs": [
    {
     "name": "stdout",
     "output_type": "stream",
     "text": [
      "0.7848275862068965\n",
      "{'C': 10}\n"
     ]
    }
   ],
   "source": [
    "tuning_parameters = {\n",
    "    'C': [0.01, 0.1, 1, 10, 100],\n",
    "}\n",
    "\n",
    "model = SVC(cache_size=2000, max_iter=100000, random_state=0)\n",
    "best_score, best_params = tuneParameters(model, tuning_parameters, X_train, Y_train, n_core)\n",
    "print(best_score)\n",
    "print(best_params)"
   ]
  },
  {
   "cell_type": "code",
   "execution_count": 27,
   "metadata": {},
   "outputs": [
    {
     "name": "stdout",
     "output_type": "stream",
     "text": [
      "0.7922988505747127\n",
      "{'max_depth': 6}\n"
     ]
    }
   ],
   "source": [
    "tuning_parameters = {\n",
    "    'max_depth': [i for i in range(2, 12, 2)]\n",
    "}\n",
    "\n",
    "model = DecisionTreeClassifier(random_state=0)\n",
    "best_score, best_params = tuneParameters(model, tuning_parameters, X_train, Y_train, n_core)\n",
    "print(best_score)\n",
    "print(best_params)"
   ]
  },
  {
   "cell_type": "code",
   "execution_count": 28,
   "metadata": {},
   "outputs": [
    {
     "name": "stdout",
     "output_type": "stream",
     "text": [
      "0.7922988505747127\n",
      "{'min_samples_split': 2}\n"
     ]
    }
   ],
   "source": [
    "tuning_parameters = {\n",
    "    'min_samples_split': [i for i in range(2, 12, 2)]\n",
    "}\n",
    "\n",
    "model = DecisionTreeClassifier(max_depth=6, random_state=0)\n",
    "best_score, best_params = tuneParameters(model, tuning_parameters, X_train, Y_train, n_core)\n",
    "print(best_score)\n",
    "print(best_params)"
   ]
  },
  {
   "cell_type": "code",
   "execution_count": 29,
   "metadata": {},
   "outputs": [
    {
     "name": "stdout",
     "output_type": "stream",
     "text": [
      "0.7931034482758621\n",
      "{'max_leaf_nodes': 45}\n"
     ]
    }
   ],
   "source": [
    "tuning_parameters = {\n",
    "    'max_leaf_nodes': [i for i in range(5, 100, 5)]\n",
    "}\n",
    "\n",
    "model = DecisionTreeClassifier(max_depth=6, random_state=0)\n",
    "best_score, best_params = tuneParameters(model, tuning_parameters, X_train, Y_train, n_core)\n",
    "print(best_score)\n",
    "print(best_params)"
   ]
  },
  {
   "cell_type": "code",
   "execution_count": 30,
   "metadata": {},
   "outputs": [
    {
     "name": "stdout",
     "output_type": "stream",
     "text": [
      "0.7945977011494254\n",
      "{'min_samples_leaf': 9}\n"
     ]
    }
   ],
   "source": [
    "tuning_parameters = {\n",
    "    'min_samples_leaf': [i for i in range(1, 10, 2)]\n",
    "}\n",
    "\n",
    "model = DecisionTreeClassifier(max_depth=6, max_leaf_nodes=45, random_state=0)\n",
    "best_score, best_params = tuneParameters(model, tuning_parameters, X_train, Y_train, n_core)\n",
    "print(best_score)\n",
    "print(best_params)"
   ]
  },
  {
   "cell_type": "code",
   "execution_count": 31,
   "metadata": {},
   "outputs": [
    {
     "name": "stdout",
     "output_type": "stream",
     "text": [
      "0.7945977011494254\n",
      "{'max_features': 25}\n"
     ]
    }
   ],
   "source": [
    "tuning_parameters = {\n",
    "    'max_features': ['sqrt', 'log2', X_train.shape[1]]\n",
    "}\n",
    "\n",
    "model = DecisionTreeClassifier(max_depth=6, max_leaf_nodes=45, min_samples_leaf=9, random_state=0)\n",
    "best_score, best_params = tuneParameters(model, tuning_parameters, X_train, Y_train, n_core)\n",
    "print(best_score)\n",
    "print(best_params)"
   ]
  },
  {
   "cell_type": "code",
   "execution_count": 15,
   "metadata": {},
   "outputs": [
    {
     "name": "stdout",
     "output_type": "stream",
     "text": [
      "0.8026436781609195\n",
      "{'max_depth': 10}\n"
     ]
    }
   ],
   "source": [
    "tuning_parameters = {\n",
    "    'max_depth': [i for i in range(2, 12, 2)]\n",
    "}\n",
    "\n",
    "model = RandomForestClassifier(random_state=0, oob_score=True)\n",
    "best_score, best_params = tuneParameters(model, tuning_parameters, X_train, Y_train, n_core)\n",
    "print(best_score)\n",
    "print(best_params)"
   ]
  },
  {
   "cell_type": "code",
   "execution_count": 16,
   "metadata": {},
   "outputs": [
    {
     "name": "stdout",
     "output_type": "stream",
     "text": [
      "0.8029885057471265\n",
      "{'min_samples_split': 4}\n"
     ]
    }
   ],
   "source": [
    "tuning_parameters = {\n",
    "    'min_samples_split': [i for i in range(2, 12, 2)]\n",
    "}\n",
    "\n",
    "model = RandomForestClassifier(max_depth=10, random_state=0, oob_score=True)\n",
    "best_score, best_params = tuneParameters(model, tuning_parameters, X_train, Y_train, n_core)\n",
    "print(best_score)\n",
    "print(best_params)"
   ]
  },
  {
   "cell_type": "code",
   "execution_count": 20,
   "metadata": {},
   "outputs": [
    {
     "name": "stdout",
     "output_type": "stream",
     "text": [
      "0.7971264367816092\n",
      "{'max_leaf_nodes': 95}\n"
     ]
    }
   ],
   "source": [
    "tuning_parameters = {\n",
    "    'max_leaf_nodes': [i for i in range(5, 100, 5)]\n",
    "}\n",
    "\n",
    "model = RandomForestClassifier(max_depth=10, min_samples_split=4, random_state=0, oob_score=True)\n",
    "best_score, best_params = tuneParameters(model, tuning_parameters, X_train, Y_train, n_core)\n",
    "print(best_score)\n",
    "print(best_params)"
   ]
  },
  {
   "cell_type": "code",
   "execution_count": 21,
   "metadata": {},
   "outputs": [
    {
     "name": "stdout",
     "output_type": "stream",
     "text": [
      "0.8029885057471265\n",
      "{'min_samples_leaf': 1}\n"
     ]
    }
   ],
   "source": [
    "tuning_parameters = {\n",
    "    'min_samples_leaf': [i for i in range(1, 10, 2)]\n",
    "}\n",
    "\n",
    "model = RandomForestClassifier(max_depth=10, min_samples_split=4, random_state=0, oob_score=True)\n",
    "best_score, best_params = tuneParameters(model, tuning_parameters, X_train, Y_train, n_core)\n",
    "print(best_score)\n",
    "print(best_params)"
   ]
  },
  {
   "cell_type": "code",
   "execution_count": 22,
   "metadata": {},
   "outputs": [
    {
     "name": "stdout",
     "output_type": "stream",
     "text": [
      "0.8029885057471265\n",
      "{'n_estimators': 50}\n"
     ]
    }
   ],
   "source": [
    "tuning_parameters = {\n",
    "    'n_estimators': [50, 100, 300, 500, 1000]\n",
    "}\n",
    "\n",
    "model = RandomForestClassifier(max_depth=10, min_samples_split=4, random_state=0, oob_score=True)\n",
    "best_score, best_params = tuneParameters(model, tuning_parameters, X_train, Y_train, n_core)\n",
    "print(best_score)\n",
    "print(best_params)"
   ]
  },
  {
   "cell_type": "code",
   "execution_count": 23,
   "metadata": {},
   "outputs": [
    {
     "name": "stdout",
     "output_type": "stream",
     "text": [
      "0.8029885057471265\n",
      "{'max_samples': 1.0}\n"
     ]
    }
   ],
   "source": [
    "tuning_parameters = {\n",
    "    'max_samples': [i * 0.1 for i in range(1, 11)]\n",
    "}\n",
    "\n",
    "model = RandomForestClassifier(max_depth=10, min_samples_split=4, n_estimators=50, random_state=0, oob_score=True)\n",
    "best_score, best_params = tuneParameters(model, tuning_parameters, X_train, Y_train, n_core)\n",
    "print(best_score)\n",
    "print(best_params)"
   ]
  },
  {
   "cell_type": "code",
   "execution_count": 25,
   "metadata": {},
   "outputs": [
    {
     "name": "stdout",
     "output_type": "stream",
     "text": [
      "0.8029885057471265\n",
      "{'max_features': 'sqrt'}\n"
     ]
    }
   ],
   "source": [
    "tuning_parameters = {\n",
    "    'max_features': ['sqrt', 'log2', X_train.shape[1]]\n",
    "}\n",
    "\n",
    "model = RandomForestClassifier(max_depth=10, min_samples_split=4, n_estimators=50, random_state=0, oob_score=True)\n",
    "best_score, best_params = tuneParameters(model, tuning_parameters, X_train, Y_train, n_core)\n",
    "print(best_score)\n",
    "print(best_params)"
   ]
  },
  {
   "cell_type": "code",
   "execution_count": 32,
   "metadata": {},
   "outputs": [
    {
     "name": "stdout",
     "output_type": "stream",
     "text": [
      "0.8026436781609195\n",
      "{'n_estimators': 300}\n"
     ]
    }
   ],
   "source": [
    "tuning_parameters = {\n",
    "    'n_estimators': [50, 100, 300, 500, 1000],\n",
    "}\n",
    "\n",
    "model = GradientBoostingClassifier(random_state=0)\n",
    "best_score, best_params = tuneParameters(model, tuning_parameters, X_train, Y_train, n_core)\n",
    "print(best_score)\n",
    "print(best_params)"
   ]
  },
  {
   "cell_type": "code",
   "execution_count": 33,
   "metadata": {},
   "outputs": [
    {
     "name": "stdout",
     "output_type": "stream",
     "text": [
      "0.8020689655172415\n",
      "{'max_depth': 4, 'min_samples_split': 2}\n"
     ]
    }
   ],
   "source": [
    "tuning_parameters = {\n",
    "    'max_depth': [2, 4, 6, 8, 10],\n",
    "    'min_samples_split': [2, 4, 6, 8, 10],\n",
    "}\n",
    "\n",
    "model = GradientBoostingClassifier(n_estimators=300, random_state=0)\n",
    "best_score, best_params = tuneParameters(model, tuning_parameters, X_train, Y_train, n_core)\n",
    "print(best_score)\n",
    "print(best_params)"
   ]
  },
  {
   "cell_type": "code",
   "execution_count": 34,
   "metadata": {},
   "outputs": [
    {
     "name": "stdout",
     "output_type": "stream",
     "text": [
      "0.8022988505747126\n",
      "{'max_features': 'log2'}\n"
     ]
    }
   ],
   "source": [
    "tuning_parameters = {\n",
    "    'max_features': ['sqrt', 'log2', X_train.shape[0]]\n",
    "}\n",
    "\n",
    "model = GradientBoostingClassifier(n_estimators=300, max_depth=4, min_samples_split=2, random_state=0)\n",
    "best_score, best_params = tuneParameters(model, tuning_parameters, X_train, Y_train, n_core)\n",
    "print(best_score)\n",
    "print(best_params)"
   ]
  },
  {
   "cell_type": "code",
   "execution_count": 36,
   "metadata": {},
   "outputs": [
    {
     "name": "stdout",
     "output_type": "stream",
     "text": [
      "0.8022988505747126\n",
      "{'learning_rate': 0.1}\n"
     ]
    }
   ],
   "source": [
    "tuning_parameters = {\n",
    "    'learning_rate': [0.001, 0.01, 0.1, 0.2, 0.3]\n",
    "}\n",
    "\n",
    "model = GradientBoostingClassifier(n_estimators=300, max_depth=4, min_samples_split=2, max_features='log2', random_state=0)\n",
    "best_score, best_params = tuneParameters(model, tuning_parameters, X_train, Y_train, n_core)\n",
    "print(best_score)\n",
    "print(best_params)"
   ]
  },
  {
   "cell_type": "code",
   "execution_count": 37,
   "metadata": {},
   "outputs": [
    {
     "name": "stdout",
     "output_type": "stream",
     "text": [
      "0.801264367816092\n",
      "{'n_estimators': 50}\n"
     ]
    }
   ],
   "source": [
    "tuning_parameters = {\n",
    "    'n_estimators': [50, 100, 300, 500, 1000],\n",
    "}\n",
    "\n",
    "model = XGBClassifier(seed=0)\n",
    "best_score, best_params = tuneParameters(model, tuning_parameters, X_train, Y_train, n_core)\n",
    "print(best_score)\n",
    "print(best_params)"
   ]
  },
  {
   "cell_type": "code",
   "execution_count": 38,
   "metadata": {},
   "outputs": [
    {
     "name": "stdout",
     "output_type": "stream",
     "text": [
      "0.8027586206896553\n",
      "{'max_depth': 4, 'min_child_weight': 6}\n"
     ]
    }
   ],
   "source": [
    "tuning_parameters = {\n",
    "    'max_depth': [2, 4, 6, 8, 10],\n",
    "    'min_child_weight': [2, 4, 6, 8, 10]\n",
    "}\n",
    "\n",
    "model = XGBClassifier(n_estimators=50, seed=0)\n",
    "best_score, best_params = tuneParameters(model, tuning_parameters, X_train, Y_train, n_core)\n",
    "print(best_score)\n",
    "print(best_params)"
   ]
  },
  {
   "cell_type": "code",
   "execution_count": 39,
   "metadata": {},
   "outputs": [
    {
     "name": "stdout",
     "output_type": "stream",
     "text": [
      "0.8028735632183908\n",
      "{'gamma': 0.01}\n"
     ]
    }
   ],
   "source": [
    "tuning_parameters = {\n",
    "    'gamma': [0, 0.0001, 0.001, 0.01, 0.1,]\n",
    "}\n",
    "\n",
    "model = XGBClassifier(n_estimators=50, max_depth=4, min_child_weight=6, seed=0)\n",
    "best_score, best_params = tuneParameters(model, tuning_parameters, X_train, Y_train, n_core)\n",
    "print(best_score)\n",
    "print(best_params)"
   ]
  },
  {
   "cell_type": "code",
   "execution_count": 40,
   "metadata": {},
   "outputs": [
    {
     "name": "stdout",
     "output_type": "stream",
     "text": [
      "0.8029885057471265\n",
      "{'colsample_bytree': 0.6, 'subsample': 0.7}\n"
     ]
    }
   ],
   "source": [
    "tuning_parameters = {\n",
    "    'subsample':[i/10.0 for i in range(6,10)],\n",
    "    'colsample_bytree':[i/10.0 for i in range(6,10)]\n",
    "}\n",
    "\n",
    "model = XGBClassifier(n_estimators=50, max_depth=4, min_child_weight=6, gamma=0.01, seed=0)\n",
    "best_score, best_params = tuneParameters(model, tuning_parameters, X_train, Y_train, n_core)\n",
    "print(best_score)\n",
    "print(best_params)"
   ]
  },
  {
   "cell_type": "code",
   "execution_count": 41,
   "metadata": {},
   "outputs": [
    {
     "name": "stdout",
     "output_type": "stream",
     "text": [
      "0.8029885057471265\n",
      "{'reg_alpha': 1e-05}\n"
     ]
    }
   ],
   "source": [
    "tuning_parameters = {\n",
    "    'reg_alpha': [1e-5, 1e-2, 0.1, 1, 100]\n",
    "}\n",
    "\n",
    "model = XGBClassifier(n_estimators=50, max_depth=4, min_child_weight=6, gamma=0.01, subsample=0.7, colsample_bytree=0.6, seed=0)\n",
    "best_score, best_params = tuneParameters(model, tuning_parameters, X_train, Y_train, n_core)\n",
    "print(best_score)\n",
    "print(best_params)"
   ]
  },
  {
   "cell_type": "code",
   "execution_count": 42,
   "metadata": {},
   "outputs": [
    {
     "name": "stdout",
     "output_type": "stream",
     "text": [
      "0.8029885057471265\n",
      "{'reg_lambda': 1}\n"
     ]
    }
   ],
   "source": [
    "tuning_parameters = {\n",
    "    'reg_lambda': [1e-5, 1e-2, 0.1, 1, 100]\n",
    "}\n",
    "\n",
    "model = XGBClassifier(n_estimators=50, max_depth=4, min_child_weight=6, gamma=0.01, subsample=0.7, colsample_bytree=0.6, reg_alpha=1e-5, seed=0)\n",
    "best_score, best_params = tuneParameters(model, tuning_parameters, X_train, Y_train, n_core)\n",
    "print(best_score)\n",
    "print(best_params)"
   ]
  },
  {
   "cell_type": "code",
   "execution_count": 43,
   "metadata": {},
   "outputs": [
    {
     "name": "stdout",
     "output_type": "stream",
     "text": [
      "0.8029885057471265\n",
      "{'eta': 0.3}\n"
     ]
    }
   ],
   "source": [
    "tuning_parameters = {\n",
    "    'eta': [0.01, 0.05, 0.1, 0.2, 0.3]\n",
    "}\n",
    "\n",
    "model = XGBClassifier(n_estimators=50, max_depth=4, min_child_weight=6, gamma=0.01, subsample=0.7, colsample_bytree=0.6, reg_alpha=1e-5, reg_lambda=1, seed=0)\n",
    "best_score, best_params = tuneParameters(model, tuning_parameters, X_train, Y_train, n_core)\n",
    "print(best_score)\n",
    "print(best_params)"
   ]
  },
  {
   "cell_type": "code",
   "execution_count": 44,
   "metadata": {},
   "outputs": [
    {
     "name": "stdout",
     "output_type": "stream",
     "text": [
      "0.8086206896551724\n",
      "{'iterations': 1000}\n"
     ]
    }
   ],
   "source": [
    "tuning_parameters = {\n",
    "    'iterations': [50, 100, 300, 500, 1000],\n",
    "}\n",
    "\n",
    "model = CatBoostClassifier(random_state=0, verbose=0, allow_writing_files=False)\n",
    "best_score, best_params = tuneParameters(model, tuning_parameters, X_train, Y_train, n_core)\n",
    "print(best_score)\n",
    "print(best_params)"
   ]
  },
  {
   "cell_type": "code",
   "execution_count": 46,
   "metadata": {},
   "outputs": [
    {
     "name": "stdout",
     "output_type": "stream",
     "text": [
      "0.8086206896551724\n",
      "{'depth': 6}\n"
     ]
    }
   ],
   "source": [
    "tuning_parameters = {\n",
    "    'depth': [2, 4, 6, 8, 10]\n",
    "}\n",
    "\n",
    "model = CatBoostClassifier(iterations=1000, random_state=0, verbose=0, allow_writing_files=False)\n",
    "best_score, best_params = tuneParameters(model, tuning_parameters, X_train, Y_train, 1)\n",
    "print(best_score)\n",
    "print(best_params)"
   ]
  },
  {
   "cell_type": "code",
   "execution_count": 47,
   "metadata": {},
   "outputs": [
    {
     "name": "stdout",
     "output_type": "stream",
     "text": [
      "0.8072413793103449\n",
      "{'l2_leaf_reg': 1}\n"
     ]
    }
   ],
   "source": [
    "tuning_parameters = {\n",
    "    'l2_leaf_reg': [1e-5, 1e-2, 0.1, 1, 100]\n",
    "}\n",
    "\n",
    "model = CatBoostClassifier(iterations=1000, depth=6, random_state=0, verbose=0, allow_writing_files=False)\n",
    "best_score, best_params = tuneParameters(model, tuning_parameters, X_train, Y_train, n_core)\n",
    "print(best_score)\n",
    "print(best_params)"
   ]
  },
  {
   "cell_type": "code",
   "execution_count": 51,
   "metadata": {},
   "outputs": [
    {
     "name": "stdout",
     "output_type": "stream",
     "text": [
      "0.8072413793103449\n",
      "{'random_strength': 1}\n"
     ]
    }
   ],
   "source": [
    "tuning_parameters = {\n",
    "    'random_strength': [1e-5, 0.01, 1, 10, 100]\n",
    "}\n",
    "\n",
    "model = CatBoostClassifier(iterations=1000, depth=6, l2_leaf_reg=1, random_state=0, verbose=0, allow_writing_files=False)\n",
    "best_score, best_params = tuneParameters(model, tuning_parameters, X_train, Y_train, n_core)\n",
    "print(best_score)\n",
    "print(best_params)"
   ]
  },
  {
   "cell_type": "code",
   "execution_count": 52,
   "metadata": {},
   "outputs": [
    {
     "name": "stdout",
     "output_type": "stream",
     "text": [
      "0.8072413793103449\n",
      "{'bagging_temperature': 0}\n"
     ]
    }
   ],
   "source": [
    "tuning_parameters = {\n",
    "    'bagging_temperature': [0, 1e-5, 0.01, 1, 10, 100]\n",
    "}\n",
    "\n",
    "model = CatBoostClassifier(iterations=1000, depth=6, l2_leaf_reg=1, random_strength=1, random_state=0, verbose=0, allow_writing_files=False)\n",
    "best_score, best_params = tuneParameters(model, tuning_parameters, X_train, Y_train, n_core)\n",
    "print(best_score)\n",
    "print(best_params)"
   ]
  },
  {
   "cell_type": "code",
   "execution_count": 53,
   "metadata": {},
   "outputs": [
    {
     "name": "stdout",
     "output_type": "stream",
     "text": [
      "0.8072413793103449\n",
      "{'grow_policy': 'SymmetricTree'}\n"
     ]
    }
   ],
   "source": [
    "tuning_parameters = {\n",
    "    'grow_policy': ['SymmetricTree', 'Depthwise', 'Lossguide']\n",
    "}\n",
    "\n",
    "model = CatBoostClassifier(iterations=1000, depth=6, l2_leaf_reg=1, random_strength=1, bagging_temperature=0, random_state=0, verbose=0, allow_writing_files=False)\n",
    "best_score, best_params = tuneParameters(model, tuning_parameters, X_train, Y_train, n_core)\n",
    "print(best_score)\n",
    "print(best_params)"
   ]
  },
  {
   "cell_type": "code",
   "execution_count": 60,
   "metadata": {},
   "outputs": [
    {
     "data": {
      "text/plain": [
       "CryoSleep                      Int64\n",
       "Age                          float32\n",
       "RoomService                  float32\n",
       "FoodCourt                    float32\n",
       "ShoppingMall                 float32\n",
       "Spa                          float32\n",
       "VRDeck                       float32\n",
       "TotalSpending                float32\n",
       "LuxurySpending               float32\n",
       "EssentialSpending            float32\n",
       "HasSpending                    int64\n",
       "PassengerGroupSize             int64\n",
       "Alone                          int64\n",
       "HomePlanet_Earth               int32\n",
       "HomePlanet_Europa              int32\n",
       "HomePlanet_Mars                int32\n",
       "Destination_55 Cancri e        int32\n",
       "Destination_PSO J318.5-22      int32\n",
       "Destination_TRAPPIST-1e        int32\n",
       "CabinDeck_C                    int32\n",
       "CabinDeck_E                    int32\n",
       "CabinDeck_F                    int32\n",
       "CabinDeck_G                    int32\n",
       "CabinSide_P                    int32\n",
       "CabinSide_S                    int32\n",
       "dtype: object"
      ]
     },
     "execution_count": 60,
     "metadata": {},
     "output_type": "execute_result"
    }
   ],
   "source": [
    "X_train.dtypes"
   ]
  },
  {
   "cell_type": "code",
   "execution_count": 61,
   "metadata": {},
   "outputs": [
    {
     "name": "stderr",
     "output_type": "stream",
     "text": [
      "c:\\Users\\knigh\\anaconda3\\envs\\ml2\\lib\\site-packages\\onedal\\ensemble\\forest.py:323: UserWarning: Some inputs do not have OOB scores. This probably means too few trees were used to compute any reliable OOB estimates.\n",
      "  warnings.warn(\n"
     ]
    }
   ],
   "source": [
    "tuned_models = [\n",
    "    ('LR', LogisticRegression(C=0.01, max_iter=100000, random_state=0)),\n",
    "    ('SVC', SVC(C=10, cache_size=2000, max_iter=100000, random_state=0)),\n",
    "    ('DT', DecisionTreeClassifier(max_depth=6, max_leaf_nodes=45, min_samples_leaf=9, max_features=25, random_state=0)),\n",
    "    ('RF', RandomForestClassifier(max_depth=10, min_samples_split=4, n_estimators=50, max_features='sqrt', random_state=0, oob_score=True)),\n",
    "    ('GB', GradientBoostingClassifier(n_estimators=300, max_depth=4, min_samples_split=2, max_features='log2', learning_rate=0.1, random_state=0)),\n",
    "    ('XGB', XGBClassifier(n_estimators=50, max_depth=4, min_child_weight=6, gamma=0.01, subsample=0.7, colsample_bytree=0.6, reg_alpha=1e-5, reg_lambda=1, eta=0.3, seed=0)),\n",
    "    ('CB', CatBoostClassifier(iterations=1000, depth=6, l2_leaf_reg=1, random_strength=1, bagging_temperature=0, grow_policy='SymmetricTree', random_state=0, verbose=0, allow_writing_files=False))\n",
    "]\n",
    "\n",
    "columns_float = X_train.select_dtypes(include=['Int64']).columns\n",
    "X_train[columns_float] = X_train[columns_float].astype('int32')\n",
    "X_test[columns_float] = X_test[columns_float].astype('int32')\n",
    "\n",
    "model = VotingClassifier(tuned_models)\n",
    "predict(model, X_train, Y_train, X_test, id, label, 'result.csv')"
   ]
  },
  {
   "cell_type": "markdown",
   "metadata": {},
   "source": [
    "## Attempt3"
   ]
  },
  {
   "cell_type": "code",
   "execution_count": 42,
   "metadata": {},
   "outputs": [
    {
     "name": "stdout",
     "output_type": "stream",
     "text": [
      "(8693, 38) (8693,) (4277, 38)\n"
     ]
    }
   ],
   "source": [
    "train_data_new, test_data_new = train_data.copy(), test_data.copy()\n",
    "\n",
    "train_data_new['Cabin'] = train_data_new['Cabin'].fillna(train_data_new['Cabin'].mode().loc[0])\n",
    "test_data_new['Cabin'] = test_data_new['Cabin'].fillna(train_data_new['Cabin'].mode().loc[0])\n",
    "\n",
    "train_data_new[['CabinDeck', 'CabinNum', 'CabinSide']] = train_data_new['Cabin'].str.split('/', expand=True)\n",
    "test_data_new[['CabinDeck', 'CabinNum', 'CabinSide']] = test_data_new['Cabin'].str.split('/', expand=True)\n",
    "\n",
    "for f in ['RoomService', 'FoodCourt', 'ShoppingMall', 'Spa', 'VRDeck']:\n",
    "    train_data_new[f+'_Log'] = np.log1p(train_data_new[f])\n",
    "    test_data_new[f+'_Log'] = np.log1p(test_data_new[f])\n",
    "\n",
    "train_data_new['TotalSpending'] = train_data_new[['RoomService', 'FoodCourt', 'ShoppingMall', 'Spa', 'VRDeck']].sum(axis=1)\n",
    "test_data_new['TotalSpending'] = test_data_new[['RoomService', 'FoodCourt', 'ShoppingMall', 'Spa', 'VRDeck']].sum(axis=1)\n",
    "\n",
    "train_data_new['TotalSpending_Log'] = np.log1p(train_data_new['TotalSpending'])\n",
    "test_data_new['TotalSpending_Log'] = np.log1p(test_data_new['TotalSpending'])\n",
    "\n",
    "train_data_new['LuxurySpending'] = train_data_new[['RoomService', 'Spa', 'VRDeck']].sum(axis=1)\n",
    "test_data_new['LuxurySpending'] = test_data_new[['RoomService', 'Spa', 'VRDeck']].sum(axis=1)\n",
    "\n",
    "train_data_new['LuxurySpending_Log'] = np.log1p(train_data_new['LuxurySpending'])\n",
    "test_data_new['LuxurySpending_Log'] = np.log1p(test_data_new['LuxurySpending'])\n",
    "\n",
    "train_data_new['EssentialSpending'] = train_data_new[['FoodCourt', 'ShoppingMall']].sum(axis=1)\n",
    "test_data_new['EssentialSpending'] = test_data_new[['FoodCourt', 'ShoppingMall']].sum(axis=1)\n",
    "\n",
    "train_data_new['EssentialSpending_Log'] = np.log1p(train_data_new['EssentialSpending'])\n",
    "test_data_new['EssentialSpending_Log'] = np.log1p(test_data_new['EssentialSpending'])\n",
    "\n",
    "train_data_new['HasSpending'] = train_data_new['TotalSpending'].apply(lambda x: 1 if x > 0 else 0)\n",
    "test_data_new['HasSpending'] = test_data_new['TotalSpending'].apply(lambda x: 1 if x > 0 else 0)\n",
    "\n",
    "train_data_new['PassengerGroup'] = train_data_new['PassengerId'].apply(lambda x: x.split('_')[0])\n",
    "test_data_new['PassengerGroup'] = test_data_new['PassengerId'].apply(lambda x: x.split('_')[0])\n",
    "\n",
    "count_train = train_data_new['PassengerGroup'].value_counts()\n",
    "count_test = test_data_new['PassengerGroup'].value_counts()\n",
    "\n",
    "train_data_new['PassengerGroupSize'] = train_data_new['PassengerGroup'].apply(lambda x: count_train[x])\n",
    "test_data_new['PassengerGroupSize'] = test_data_new['PassengerGroup'].apply(lambda x: count_test[x])\n",
    "\n",
    "train_data_new['Alone'] = train_data_new['PassengerGroupSize'].apply(lambda x: 1 if x == 1 else 0)\n",
    "test_data_new['Alone'] = test_data_new['PassengerGroupSize'].apply(lambda x: 1 if x == 1 else 0)\n",
    "\n",
    "columns_to_drop = ['PassengerId', 'Name', 'Cabin', 'CabinNum', 'PassengerGroup']\n",
    "\n",
    "X_train, Y_train, X_test = preprocess(columns_to_drop, train_data_new, test_data_new, label)\n",
    "print(X_train.shape, Y_train.shape, X_test.shape)"
   ]
  },
  {
   "cell_type": "code",
   "execution_count": 17,
   "metadata": {},
   "outputs": [
    {
     "data": {
      "text/html": [
       "<div>\n",
       "<style scoped>\n",
       "    .dataframe tbody tr th:only-of-type {\n",
       "        vertical-align: middle;\n",
       "    }\n",
       "\n",
       "    .dataframe tbody tr th {\n",
       "        vertical-align: top;\n",
       "    }\n",
       "\n",
       "    .dataframe thead th {\n",
       "        text-align: right;\n",
       "    }\n",
       "</style>\n",
       "<table border=\"1\" class=\"dataframe\">\n",
       "  <thead>\n",
       "    <tr style=\"text-align: right;\">\n",
       "      <th></th>\n",
       "      <th>name</th>\n",
       "      <th>score_mean</th>\n",
       "    </tr>\n",
       "  </thead>\n",
       "  <tbody>\n",
       "    <tr>\n",
       "      <th>0</th>\n",
       "      <td>LogisticRegression</td>\n",
       "      <td>0.788506</td>\n",
       "    </tr>\n",
       "    <tr>\n",
       "      <th>1</th>\n",
       "      <td>SVC</td>\n",
       "      <td>0.782299</td>\n",
       "    </tr>\n",
       "    <tr>\n",
       "      <th>2</th>\n",
       "      <td>DecisionTreeClassifier</td>\n",
       "      <td>0.738276</td>\n",
       "    </tr>\n",
       "    <tr>\n",
       "      <th>3</th>\n",
       "      <td>RandomForestClassifier</td>\n",
       "      <td>0.781609</td>\n",
       "    </tr>\n",
       "    <tr>\n",
       "      <th>4</th>\n",
       "      <td>GradientBoostingClassifier</td>\n",
       "      <td>0.796207</td>\n",
       "    </tr>\n",
       "    <tr>\n",
       "      <th>5</th>\n",
       "      <td>XGBClassifier</td>\n",
       "      <td>0.797356</td>\n",
       "    </tr>\n",
       "    <tr>\n",
       "      <th>6</th>\n",
       "      <td>CatBoostClassifier</td>\n",
       "      <td>0.808391</td>\n",
       "    </tr>\n",
       "  </tbody>\n",
       "</table>\n",
       "</div>"
      ],
      "text/plain": [
       "                         name  score_mean\n",
       "0          LogisticRegression    0.788506\n",
       "1                         SVC    0.782299\n",
       "2      DecisionTreeClassifier    0.738276\n",
       "3      RandomForestClassifier    0.781609\n",
       "4  GradientBoostingClassifier    0.796207\n",
       "5               XGBClassifier    0.797356\n",
       "6          CatBoostClassifier    0.808391"
      ]
     },
     "execution_count": 17,
     "metadata": {},
     "output_type": "execute_result"
    }
   ],
   "source": [
    "cv_results = evaluation(X_train, Y_train)\n",
    "cv_results"
   ]
  },
  {
   "cell_type": "markdown",
   "metadata": {},
   "source": [
    "### Feature Selection"
   ]
  },
  {
   "cell_type": "code",
   "execution_count": 18,
   "metadata": {},
   "outputs": [
    {
     "data": {
      "text/html": [
       "<div>\n",
       "<style scoped>\n",
       "    .dataframe tbody tr th:only-of-type {\n",
       "        vertical-align: middle;\n",
       "    }\n",
       "\n",
       "    .dataframe tbody tr th {\n",
       "        vertical-align: top;\n",
       "    }\n",
       "\n",
       "    .dataframe thead th {\n",
       "        text-align: right;\n",
       "    }\n",
       "</style>\n",
       "<table border=\"1\" class=\"dataframe\">\n",
       "  <thead>\n",
       "    <tr style=\"text-align: right;\">\n",
       "      <th></th>\n",
       "      <th>feature</th>\n",
       "      <th>importance</th>\n",
       "    </tr>\n",
       "  </thead>\n",
       "  <tbody>\n",
       "    <tr>\n",
       "      <th>15</th>\n",
       "      <td>LuxurySpending_Log</td>\n",
       "      <td>0.143379</td>\n",
       "    </tr>\n",
       "    <tr>\n",
       "      <th>1</th>\n",
       "      <td>Age</td>\n",
       "      <td>0.122805</td>\n",
       "    </tr>\n",
       "    <tr>\n",
       "      <th>14</th>\n",
       "      <td>LuxurySpending</td>\n",
       "      <td>0.108675</td>\n",
       "    </tr>\n",
       "    <tr>\n",
       "      <th>13</th>\n",
       "      <td>TotalSpending_Log</td>\n",
       "      <td>0.075096</td>\n",
       "    </tr>\n",
       "    <tr>\n",
       "      <th>12</th>\n",
       "      <td>TotalSpending</td>\n",
       "      <td>0.054457</td>\n",
       "    </tr>\n",
       "    <tr>\n",
       "      <th>16</th>\n",
       "      <td>EssentialSpending</td>\n",
       "      <td>0.053692</td>\n",
       "    </tr>\n",
       "    <tr>\n",
       "      <th>17</th>\n",
       "      <td>EssentialSpending_Log</td>\n",
       "      <td>0.049071</td>\n",
       "    </tr>\n",
       "    <tr>\n",
       "      <th>19</th>\n",
       "      <td>PassengerGroupSize</td>\n",
       "      <td>0.035160</td>\n",
       "    </tr>\n",
       "    <tr>\n",
       "      <th>0</th>\n",
       "      <td>CryoSleep</td>\n",
       "      <td>0.027588</td>\n",
       "    </tr>\n",
       "    <tr>\n",
       "      <th>8</th>\n",
       "      <td>FoodCourt_Log</td>\n",
       "      <td>0.027033</td>\n",
       "    </tr>\n",
       "    <tr>\n",
       "      <th>20</th>\n",
       "      <td>HomePlanet_Earth</td>\n",
       "      <td>0.024145</td>\n",
       "    </tr>\n",
       "    <tr>\n",
       "      <th>5</th>\n",
       "      <td>Spa</td>\n",
       "      <td>0.024062</td>\n",
       "    </tr>\n",
       "    <tr>\n",
       "      <th>3</th>\n",
       "      <td>FoodCourt</td>\n",
       "      <td>0.022997</td>\n",
       "    </tr>\n",
       "    <tr>\n",
       "      <th>10</th>\n",
       "      <td>Spa_Log</td>\n",
       "      <td>0.022697</td>\n",
       "    </tr>\n",
       "    <tr>\n",
       "      <th>18</th>\n",
       "      <td>HasSpending</td>\n",
       "      <td>0.021816</td>\n",
       "    </tr>\n",
       "    <tr>\n",
       "      <th>6</th>\n",
       "      <td>VRDeck</td>\n",
       "      <td>0.021183</td>\n",
       "    </tr>\n",
       "    <tr>\n",
       "      <th>7</th>\n",
       "      <td>RoomService_Log</td>\n",
       "      <td>0.020337</td>\n",
       "    </tr>\n",
       "    <tr>\n",
       "      <th>2</th>\n",
       "      <td>RoomService</td>\n",
       "      <td>0.019841</td>\n",
       "    </tr>\n",
       "    <tr>\n",
       "      <th>22</th>\n",
       "      <td>CabinDeck_E</td>\n",
       "      <td>0.019752</td>\n",
       "    </tr>\n",
       "    <tr>\n",
       "      <th>23</th>\n",
       "      <td>CabinDeck_G</td>\n",
       "      <td>0.019476</td>\n",
       "    </tr>\n",
       "    <tr>\n",
       "      <th>9</th>\n",
       "      <td>ShoppingMall_Log</td>\n",
       "      <td>0.019262</td>\n",
       "    </tr>\n",
       "    <tr>\n",
       "      <th>11</th>\n",
       "      <td>VRDeck_Log</td>\n",
       "      <td>0.019013</td>\n",
       "    </tr>\n",
       "    <tr>\n",
       "      <th>4</th>\n",
       "      <td>ShoppingMall</td>\n",
       "      <td>0.018248</td>\n",
       "    </tr>\n",
       "    <tr>\n",
       "      <th>21</th>\n",
       "      <td>HomePlanet_Europa</td>\n",
       "      <td>0.015539</td>\n",
       "    </tr>\n",
       "    <tr>\n",
       "      <th>24</th>\n",
       "      <td>CabinSide_S</td>\n",
       "      <td>0.014676</td>\n",
       "    </tr>\n",
       "  </tbody>\n",
       "</table>\n",
       "</div>"
      ],
      "text/plain": [
       "                  feature  importance\n",
       "15     LuxurySpending_Log    0.143379\n",
       "1                     Age    0.122805\n",
       "14         LuxurySpending    0.108675\n",
       "13      TotalSpending_Log    0.075096\n",
       "12          TotalSpending    0.054457\n",
       "16      EssentialSpending    0.053692\n",
       "17  EssentialSpending_Log    0.049071\n",
       "19     PassengerGroupSize    0.035160\n",
       "0               CryoSleep    0.027588\n",
       "8           FoodCourt_Log    0.027033\n",
       "20       HomePlanet_Earth    0.024145\n",
       "5                     Spa    0.024062\n",
       "3               FoodCourt    0.022997\n",
       "10                Spa_Log    0.022697\n",
       "18            HasSpending    0.021816\n",
       "6                  VRDeck    0.021183\n",
       "7         RoomService_Log    0.020337\n",
       "2             RoomService    0.019841\n",
       "22            CabinDeck_E    0.019752\n",
       "23            CabinDeck_G    0.019476\n",
       "9        ShoppingMall_Log    0.019262\n",
       "11             VRDeck_Log    0.019013\n",
       "4            ShoppingMall    0.018248\n",
       "21      HomePlanet_Europa    0.015539\n",
       "24            CabinSide_S    0.014676"
      ]
     },
     "execution_count": 18,
     "metadata": {},
     "output_type": "execute_result"
    }
   ],
   "source": [
    "cv = ShuffleSplit(random_state=0)\n",
    "model = RandomForestClassifier(random_state=0, oob_score=True)\n",
    "selector = RFECV(estimator=model, cv=cv, scoring='accuracy', n_jobs=n_core)\n",
    "selector.fit(X_train, Y_train)\n",
    "\n",
    "importances = pd.DataFrame(columns=['feature', 'importance'])\n",
    "importances['feature'] = selector.get_feature_names_out()\n",
    "importances['importance'] = selector.estimator_.feature_importances_\n",
    "\n",
    "importances.sort_values(by='importance', ascending=False)"
   ]
  },
  {
   "cell_type": "code",
   "execution_count": 19,
   "metadata": {},
   "outputs": [
    {
     "data": {
      "text/plain": [
       "['VIP',\n",
       " 'Alone',\n",
       " 'HomePlanet_Mars',\n",
       " 'Destination_55 Cancri e',\n",
       " 'Destination_PSO J318.5-22',\n",
       " 'Destination_TRAPPIST-1e',\n",
       " 'CabinDeck_A',\n",
       " 'CabinDeck_B',\n",
       " 'CabinDeck_C',\n",
       " 'CabinDeck_D',\n",
       " 'CabinDeck_F',\n",
       " 'CabinDeck_T',\n",
       " 'CabinSide_P']"
      ]
     },
     "execution_count": 19,
     "metadata": {},
     "output_type": "execute_result"
    }
   ],
   "source": [
    "features_to_drop = [f for f in X_train.columns if f not in selector.get_feature_names_out()]\n",
    "features_to_drop"
   ]
  },
  {
   "cell_type": "code",
   "execution_count": 20,
   "metadata": {},
   "outputs": [
    {
     "data": {
      "text/html": [
       "<div>\n",
       "<style scoped>\n",
       "    .dataframe tbody tr th:only-of-type {\n",
       "        vertical-align: middle;\n",
       "    }\n",
       "\n",
       "    .dataframe tbody tr th {\n",
       "        vertical-align: top;\n",
       "    }\n",
       "\n",
       "    .dataframe thead th {\n",
       "        text-align: right;\n",
       "    }\n",
       "</style>\n",
       "<table border=\"1\" class=\"dataframe\">\n",
       "  <thead>\n",
       "    <tr style=\"text-align: right;\">\n",
       "      <th></th>\n",
       "      <th>name</th>\n",
       "      <th>score_mean</th>\n",
       "    </tr>\n",
       "  </thead>\n",
       "  <tbody>\n",
       "    <tr>\n",
       "      <th>0</th>\n",
       "      <td>LogisticRegression</td>\n",
       "      <td>0.788621</td>\n",
       "    </tr>\n",
       "    <tr>\n",
       "      <th>1</th>\n",
       "      <td>SVC</td>\n",
       "      <td>0.782529</td>\n",
       "    </tr>\n",
       "    <tr>\n",
       "      <th>2</th>\n",
       "      <td>DecisionTreeClassifier</td>\n",
       "      <td>0.731379</td>\n",
       "    </tr>\n",
       "    <tr>\n",
       "      <th>3</th>\n",
       "      <td>RandomForestClassifier</td>\n",
       "      <td>0.781724</td>\n",
       "    </tr>\n",
       "    <tr>\n",
       "      <th>4</th>\n",
       "      <td>GradientBoostingClassifier</td>\n",
       "      <td>0.795287</td>\n",
       "    </tr>\n",
       "    <tr>\n",
       "      <th>5</th>\n",
       "      <td>XGBClassifier</td>\n",
       "      <td>0.794713</td>\n",
       "    </tr>\n",
       "    <tr>\n",
       "      <th>6</th>\n",
       "      <td>CatBoostClassifier</td>\n",
       "      <td>0.805517</td>\n",
       "    </tr>\n",
       "  </tbody>\n",
       "</table>\n",
       "</div>"
      ],
      "text/plain": [
       "                         name  score_mean\n",
       "0          LogisticRegression    0.788621\n",
       "1                         SVC    0.782529\n",
       "2      DecisionTreeClassifier    0.731379\n",
       "3      RandomForestClassifier    0.781724\n",
       "4  GradientBoostingClassifier    0.795287\n",
       "5               XGBClassifier    0.794713\n",
       "6          CatBoostClassifier    0.805517"
      ]
     },
     "execution_count": 20,
     "metadata": {},
     "output_type": "execute_result"
    }
   ],
   "source": [
    "X_train = X_train.drop(features_to_drop, axis=1)\n",
    "X_test = X_test.drop(features_to_drop, axis=1)\n",
    "\n",
    "cv_results = evaluation(X_train, Y_train)\n",
    "cv_results"
   ]
  },
  {
   "cell_type": "code",
   "execution_count": 55,
   "metadata": {},
   "outputs": [
    {
     "name": "stdout",
     "output_type": "stream",
     "text": [
      "(8693, 29) (8693,) (4277, 29)\n"
     ]
    }
   ],
   "source": [
    "columns_to_drop = ['PassengerId', 'Name', 'Cabin', \n",
    "                   'CabinNum', 'PassengerGroup', 'PassengerGroupSize', \n",
    "                   'RoomService', 'FoodCourt', 'ShoppingMall', \n",
    "                   'Spa', 'VRDeck', 'TotalSpending', \n",
    "                   'LuxurySpending', 'EssentialSpending']\n",
    "\n",
    "X_train, Y_train, X_test = preprocess(columns_to_drop, train_data_new, test_data_new, label)\n",
    "print(X_train.shape, Y_train.shape, X_test.shape)"
   ]
  },
  {
   "cell_type": "code",
   "execution_count": 22,
   "metadata": {},
   "outputs": [
    {
     "data": {
      "text/html": [
       "<div>\n",
       "<style scoped>\n",
       "    .dataframe tbody tr th:only-of-type {\n",
       "        vertical-align: middle;\n",
       "    }\n",
       "\n",
       "    .dataframe tbody tr th {\n",
       "        vertical-align: top;\n",
       "    }\n",
       "\n",
       "    .dataframe thead th {\n",
       "        text-align: right;\n",
       "    }\n",
       "</style>\n",
       "<table border=\"1\" class=\"dataframe\">\n",
       "  <thead>\n",
       "    <tr style=\"text-align: right;\">\n",
       "      <th></th>\n",
       "      <th>name</th>\n",
       "      <th>score_mean</th>\n",
       "    </tr>\n",
       "  </thead>\n",
       "  <tbody>\n",
       "    <tr>\n",
       "      <th>0</th>\n",
       "      <td>LogisticRegression</td>\n",
       "      <td>0.792414</td>\n",
       "    </tr>\n",
       "    <tr>\n",
       "      <th>1</th>\n",
       "      <td>SVC</td>\n",
       "      <td>0.778391</td>\n",
       "    </tr>\n",
       "    <tr>\n",
       "      <th>2</th>\n",
       "      <td>DecisionTreeClassifier</td>\n",
       "      <td>0.738851</td>\n",
       "    </tr>\n",
       "    <tr>\n",
       "      <th>3</th>\n",
       "      <td>RandomForestClassifier</td>\n",
       "      <td>0.780920</td>\n",
       "    </tr>\n",
       "    <tr>\n",
       "      <th>4</th>\n",
       "      <td>GradientBoostingClassifier</td>\n",
       "      <td>0.799885</td>\n",
       "    </tr>\n",
       "    <tr>\n",
       "      <th>5</th>\n",
       "      <td>XGBClassifier</td>\n",
       "      <td>0.800920</td>\n",
       "    </tr>\n",
       "    <tr>\n",
       "      <th>6</th>\n",
       "      <td>CatBoostClassifier</td>\n",
       "      <td>0.808621</td>\n",
       "    </tr>\n",
       "  </tbody>\n",
       "</table>\n",
       "</div>"
      ],
      "text/plain": [
       "                         name  score_mean\n",
       "0          LogisticRegression    0.792414\n",
       "1                         SVC    0.778391\n",
       "2      DecisionTreeClassifier    0.738851\n",
       "3      RandomForestClassifier    0.780920\n",
       "4  GradientBoostingClassifier    0.799885\n",
       "5               XGBClassifier    0.800920\n",
       "6          CatBoostClassifier    0.808621"
      ]
     },
     "execution_count": 22,
     "metadata": {},
     "output_type": "execute_result"
    }
   ],
   "source": [
    "cv_results = evaluation(X_train, Y_train)\n",
    "cv_results"
   ]
  }
 ],
 "metadata": {
  "kernelspec": {
   "display_name": "ml",
   "language": "python",
   "name": "python3"
  },
  "language_info": {
   "codemirror_mode": {
    "name": "ipython",
    "version": 3
   },
   "file_extension": ".py",
   "mimetype": "text/x-python",
   "name": "python",
   "nbconvert_exporter": "python",
   "pygments_lexer": "ipython3",
   "version": "3.9.19"
  }
 },
 "nbformat": 4,
 "nbformat_minor": 2
}
